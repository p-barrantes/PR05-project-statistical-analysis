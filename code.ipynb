{
 "metadata": {
  "language_info": {
   "codemirror_mode": {
    "name": "ipython",
    "version": 3
   },
   "file_extension": ".py",
   "mimetype": "text/x-python",
   "name": "python",
   "nbconvert_exporter": "python",
   "pygments_lexer": "ipython3",
   "version": "3.8.5"
  },
  "orig_nbformat": 2,
  "kernelspec": {
   "name": "python385jvsc74a57bd0dca0ade3e726a953b501b15e8e990130d2b7799f14cfd9f4271676035ebe5511",
   "display_name": "Python 3.8.5 64-bit ('base': conda)"
  }
 },
 "nbformat": 4,
 "nbformat_minor": 2,
 "cells": [
  {
   "cell_type": "code",
   "execution_count": 1,
   "metadata": {},
   "outputs": [],
   "source": [
    "import pandas as pd\n",
    "import numpy as np\n",
    "from datetime import datetime\n",
    "from sklearn.preprocessing import StandardScaler"
   ]
  },
  {
   "cell_type": "code",
   "execution_count": 2,
   "metadata": {},
   "outputs": [],
   "source": [
    "df = pd.read_csv('./project-public.csv')"
   ]
  },
  {
   "cell_type": "code",
   "execution_count": 3,
   "metadata": {},
   "outputs": [
    {
     "output_type": "execute_result",
     "data": {
      "text/plain": [
       "   EEID    Status  Age  Gender               Education Level    Hire Date  \\\n",
       "0   343  Inactive   28  Female  Undergraduate degree (Grado)  19 Aug 2019   \n",
       "1   468  Inactive   29    Male                       Unknown  05 Jul 2016   \n",
       "2   458  Inactive   27    Male                       Unknown  05 Sep 2016   \n",
       "3   379  Inactive   25    Male  Undergraduate degree (Grado)  23 Oct 2017   \n",
       "4   492  Inactive   58  Female                       Unknown  13 Sep 2017   \n",
       "\n",
       "  Termination Date Termination Type Termination Reason Job Information: Date  \\\n",
       "0      30 Sep 2019      Involuntary    End of contract           19 Aug 2019   \n",
       "1      30 Mar 2017      Involuntary    End of contract           05 Jul 2016   \n",
       "2      26 Jan 2017      Involuntary    End of contract           05 Sep 2016   \n",
       "3      28 Aug 2018      Involuntary    End of contract           23 Oct 2017   \n",
       "4      29 Sep 2017      Involuntary    End of contract           13 Sep 2017   \n",
       "\n",
       "   ...         Department Supervisor EID  Pay rate  Pay rate - Currency code  \\\n",
       "0  ...  People Operations            1.0      6047                       EUR   \n",
       "1  ...                NaN          234.0      6144                       EUR   \n",
       "2  ...                NaN            NaN      6144                       EUR   \n",
       "3  ...                NaN            NaN      6144                       EUR   \n",
       "4  ...                NaN            NaN      7200                       EUR   \n",
       "\n",
       "      Compensation Change Reason Stock Options Level Is Supervisor  \\\n",
       "0  Reduce/Increase Working hours             N   NaN            No   \n",
       "1                            NaN             N   NaN            No   \n",
       "2                            NaN             N   NaN            No   \n",
       "3                       New hire             N   NaN            No   \n",
       "4                            NaN             N   NaN            No   \n",
       "\n",
       "   Length of service Length of service: Years  \n",
       "0   1 month, 11 days                        0  \n",
       "1  8 months, 25 days                        0  \n",
       "2  4 months, 21 days                        0  \n",
       "3  10 months, 5 days                        0  \n",
       "4            16 days                        0  \n",
       "\n",
       "[5 rows x 21 columns]"
      ],
      "text/html": "<div>\n<style scoped>\n    .dataframe tbody tr th:only-of-type {\n        vertical-align: middle;\n    }\n\n    .dataframe tbody tr th {\n        vertical-align: top;\n    }\n\n    .dataframe thead th {\n        text-align: right;\n    }\n</style>\n<table border=\"1\" class=\"dataframe\">\n  <thead>\n    <tr style=\"text-align: right;\">\n      <th></th>\n      <th>EEID</th>\n      <th>Status</th>\n      <th>Age</th>\n      <th>Gender</th>\n      <th>Education Level</th>\n      <th>Hire Date</th>\n      <th>Termination Date</th>\n      <th>Termination Type</th>\n      <th>Termination Reason</th>\n      <th>Job Information: Date</th>\n      <th>...</th>\n      <th>Department</th>\n      <th>Supervisor EID</th>\n      <th>Pay rate</th>\n      <th>Pay rate - Currency code</th>\n      <th>Compensation Change Reason</th>\n      <th>Stock Options</th>\n      <th>Level</th>\n      <th>Is Supervisor</th>\n      <th>Length of service</th>\n      <th>Length of service: Years</th>\n    </tr>\n  </thead>\n  <tbody>\n    <tr>\n      <th>0</th>\n      <td>343</td>\n      <td>Inactive</td>\n      <td>28</td>\n      <td>Female</td>\n      <td>Undergraduate degree (Grado)</td>\n      <td>19 Aug 2019</td>\n      <td>30 Sep 2019</td>\n      <td>Involuntary</td>\n      <td>End of contract</td>\n      <td>19 Aug 2019</td>\n      <td>...</td>\n      <td>People Operations</td>\n      <td>1.0</td>\n      <td>6047</td>\n      <td>EUR</td>\n      <td>Reduce/Increase Working hours</td>\n      <td>N</td>\n      <td>NaN</td>\n      <td>No</td>\n      <td>1 month, 11 days</td>\n      <td>0</td>\n    </tr>\n    <tr>\n      <th>1</th>\n      <td>468</td>\n      <td>Inactive</td>\n      <td>29</td>\n      <td>Male</td>\n      <td>Unknown</td>\n      <td>05 Jul 2016</td>\n      <td>30 Mar 2017</td>\n      <td>Involuntary</td>\n      <td>End of contract</td>\n      <td>05 Jul 2016</td>\n      <td>...</td>\n      <td>NaN</td>\n      <td>234.0</td>\n      <td>6144</td>\n      <td>EUR</td>\n      <td>NaN</td>\n      <td>N</td>\n      <td>NaN</td>\n      <td>No</td>\n      <td>8 months, 25 days</td>\n      <td>0</td>\n    </tr>\n    <tr>\n      <th>2</th>\n      <td>458</td>\n      <td>Inactive</td>\n      <td>27</td>\n      <td>Male</td>\n      <td>Unknown</td>\n      <td>05 Sep 2016</td>\n      <td>26 Jan 2017</td>\n      <td>Involuntary</td>\n      <td>End of contract</td>\n      <td>05 Sep 2016</td>\n      <td>...</td>\n      <td>NaN</td>\n      <td>NaN</td>\n      <td>6144</td>\n      <td>EUR</td>\n      <td>NaN</td>\n      <td>N</td>\n      <td>NaN</td>\n      <td>No</td>\n      <td>4 months, 21 days</td>\n      <td>0</td>\n    </tr>\n    <tr>\n      <th>3</th>\n      <td>379</td>\n      <td>Inactive</td>\n      <td>25</td>\n      <td>Male</td>\n      <td>Undergraduate degree (Grado)</td>\n      <td>23 Oct 2017</td>\n      <td>28 Aug 2018</td>\n      <td>Involuntary</td>\n      <td>End of contract</td>\n      <td>23 Oct 2017</td>\n      <td>...</td>\n      <td>NaN</td>\n      <td>NaN</td>\n      <td>6144</td>\n      <td>EUR</td>\n      <td>New hire</td>\n      <td>N</td>\n      <td>NaN</td>\n      <td>No</td>\n      <td>10 months, 5 days</td>\n      <td>0</td>\n    </tr>\n    <tr>\n      <th>4</th>\n      <td>492</td>\n      <td>Inactive</td>\n      <td>58</td>\n      <td>Female</td>\n      <td>Unknown</td>\n      <td>13 Sep 2017</td>\n      <td>29 Sep 2017</td>\n      <td>Involuntary</td>\n      <td>End of contract</td>\n      <td>13 Sep 2017</td>\n      <td>...</td>\n      <td>NaN</td>\n      <td>NaN</td>\n      <td>7200</td>\n      <td>EUR</td>\n      <td>NaN</td>\n      <td>N</td>\n      <td>NaN</td>\n      <td>No</td>\n      <td>16 days</td>\n      <td>0</td>\n    </tr>\n  </tbody>\n</table>\n<p>5 rows × 21 columns</p>\n</div>"
     },
     "metadata": {},
     "execution_count": 3
    }
   ],
   "source": [
    "df.head()"
   ]
  },
  {
   "cell_type": "code",
   "execution_count": 4,
   "metadata": {},
   "outputs": [
    {
     "output_type": "stream",
     "name": "stdout",
     "text": [
      "<class 'pandas.core.frame.DataFrame'>\nRangeIndex: 607 entries, 0 to 606\nData columns (total 21 columns):\n #   Column                      Non-Null Count  Dtype  \n---  ------                      --------------  -----  \n 0   EEID                        607 non-null    int64  \n 1   Status                      607 non-null    object \n 2   Age                         607 non-null    int64  \n 3   Gender                      606 non-null    object \n 4   Education Level             602 non-null    object \n 5   Hire Date                   607 non-null    object \n 6   Termination Date            258 non-null    object \n 7   Termination Type            258 non-null    object \n 8   Termination Reason          254 non-null    object \n 9   Job Information: Date       607 non-null    object \n 10  Division                    604 non-null    object \n 11  Department                  520 non-null    object \n 12  Supervisor EID              500 non-null    float64\n 13  Pay rate                    607 non-null    int64  \n 14  Pay rate - Currency code    607 non-null    object \n 15  Compensation Change Reason  414 non-null    object \n 16  Stock Options               607 non-null    object \n 17  Level                       539 non-null    object \n 18  Is Supervisor               607 non-null    object \n 19  Length of service           607 non-null    object \n 20  Length of service: Years    607 non-null    int64  \ndtypes: float64(1), int64(4), object(16)\nmemory usage: 99.7+ KB\n"
     ]
    }
   ],
   "source": [
    "df.info()"
   ]
  },
  {
   "cell_type": "code",
   "execution_count": 5,
   "metadata": {},
   "outputs": [],
   "source": [
    "df.set_index(df['EEID'], inplace=True)\n",
    "df.drop(columns='EEID', inplace=True)"
   ]
  },
  {
   "cell_type": "code",
   "execution_count": 6,
   "metadata": {},
   "outputs": [],
   "source": [
    "df['Hire Date'] = pd.to_datetime(df['Hire Date'])"
   ]
  },
  {
   "cell_type": "code",
   "execution_count": 7,
   "metadata": {},
   "outputs": [],
   "source": [
    "df['Termination Date'] = pd.to_datetime(df['Termination Date'])"
   ]
  },
  {
   "cell_type": "code",
   "execution_count": 8,
   "metadata": {},
   "outputs": [],
   "source": [
    "df['Job Information: Date'] = pd.to_datetime(df['Job Information: Date'])"
   ]
  },
  {
   "cell_type": "code",
   "execution_count": 9,
   "metadata": {},
   "outputs": [],
   "source": [
    "df['Education Level'].fillna('Unknown', inplace=True)"
   ]
  },
  {
   "cell_type": "code",
   "execution_count": 10,
   "metadata": {},
   "outputs": [],
   "source": [
    "df['Gender'].fillna('Unknown', inplace=True)"
   ]
  },
  {
   "cell_type": "code",
   "execution_count": 11,
   "metadata": {},
   "outputs": [],
   "source": [
    "df['Division'].fillna('Unknown', inplace=True)"
   ]
  },
  {
   "cell_type": "code",
   "execution_count": 12,
   "metadata": {},
   "outputs": [],
   "source": [
    "df['Department'].fillna('Unknown', inplace=True)"
   ]
  },
  {
   "cell_type": "code",
   "execution_count": 13,
   "metadata": {},
   "outputs": [],
   "source": [
    "df['Compensation Change Reason'].fillna('Unknown', inplace=True)"
   ]
  },
  {
   "cell_type": "code",
   "execution_count": 14,
   "metadata": {},
   "outputs": [],
   "source": [
    "df['Supervisor EID'].fillna(0, inplace=True)"
   ]
  },
  {
   "cell_type": "code",
   "execution_count": 15,
   "metadata": {},
   "outputs": [],
   "source": [
    "df['Level'].fillna('Unknown', inplace=True)"
   ]
  },
  {
   "cell_type": "code",
   "execution_count": 29,
   "metadata": {},
   "outputs": [],
   "source": [
    "df = df.astype({'Supervisor EID': 'int', 'Pay rate': 'float64'})"
   ]
  },
  {
   "cell_type": "code",
   "execution_count": 27,
   "metadata": {},
   "outputs": [
    {
     "output_type": "execute_result",
     "data": {
      "text/plain": [
       "        Status  Age  Gender               Education Level  Hire Date  \\\n",
       "EEID                                                                   \n",
       "343   Inactive   28  Female  Undergraduate degree (Grado) 2019-08-19   \n",
       "468   Inactive   29    Male                       Unknown 2016-07-05   \n",
       "458   Inactive   27    Male                       Unknown 2016-09-05   \n",
       "379   Inactive   25    Male  Undergraduate degree (Grado) 2017-10-23   \n",
       "492   Inactive   58  Female                       Unknown 2017-09-13   \n",
       "\n",
       "     Termination Date Termination Type Termination Reason  \\\n",
       "EEID                                                        \n",
       "343        2019-09-30      Involuntary    End of contract   \n",
       "468        2017-03-30      Involuntary    End of contract   \n",
       "458        2017-01-26      Involuntary    End of contract   \n",
       "379        2018-08-28      Involuntary    End of contract   \n",
       "492        2017-09-29      Involuntary    End of contract   \n",
       "\n",
       "     Job Information: Date     Division  ... Supervisor EID  Pay rate  \\\n",
       "EEID                                     ...                            \n",
       "343             2019-08-19       People  ...            1.0      6047   \n",
       "468             2016-07-05  Engineering  ...          234.0      6144   \n",
       "458             2016-09-05  Engineering  ...            0.0      6144   \n",
       "379             2017-10-23  Engineering  ...            0.0      6144   \n",
       "492             2017-09-13       People  ...            0.0      7200   \n",
       "\n",
       "      Pay rate - Currency code     Compensation Change Reason Stock Options  \\\n",
       "EEID                                                                          \n",
       "343                        EUR  Reduce/Increase Working hours             N   \n",
       "468                        EUR                        Unknown             N   \n",
       "458                        EUR                        Unknown             N   \n",
       "379                        EUR                       New hire             N   \n",
       "492                        EUR                        Unknown             N   \n",
       "\n",
       "        Level Is Supervisor  Length of service Length of service: Years  \\\n",
       "EEID                                                                      \n",
       "343   Unknown            No   1 month, 11 days                        0   \n",
       "468   Unknown            No  8 months, 25 days                        0   \n",
       "458   Unknown            No  4 months, 21 days                        0   \n",
       "379   Unknown            No  10 months, 5 days                        0   \n",
       "492   Unknown            No            16 days                        0   \n",
       "\n",
       "      Length of service: Months  \n",
       "EEID                             \n",
       "343                           1  \n",
       "468                           8  \n",
       "458                           4  \n",
       "379                          10  \n",
       "492                           0  \n",
       "\n",
       "[5 rows x 21 columns]"
      ],
      "text/html": "<div>\n<style scoped>\n    .dataframe tbody tr th:only-of-type {\n        vertical-align: middle;\n    }\n\n    .dataframe tbody tr th {\n        vertical-align: top;\n    }\n\n    .dataframe thead th {\n        text-align: right;\n    }\n</style>\n<table border=\"1\" class=\"dataframe\">\n  <thead>\n    <tr style=\"text-align: right;\">\n      <th></th>\n      <th>Status</th>\n      <th>Age</th>\n      <th>Gender</th>\n      <th>Education Level</th>\n      <th>Hire Date</th>\n      <th>Termination Date</th>\n      <th>Termination Type</th>\n      <th>Termination Reason</th>\n      <th>Job Information: Date</th>\n      <th>Division</th>\n      <th>...</th>\n      <th>Supervisor EID</th>\n      <th>Pay rate</th>\n      <th>Pay rate - Currency code</th>\n      <th>Compensation Change Reason</th>\n      <th>Stock Options</th>\n      <th>Level</th>\n      <th>Is Supervisor</th>\n      <th>Length of service</th>\n      <th>Length of service: Years</th>\n      <th>Length of service: Months</th>\n    </tr>\n    <tr>\n      <th>EEID</th>\n      <th></th>\n      <th></th>\n      <th></th>\n      <th></th>\n      <th></th>\n      <th></th>\n      <th></th>\n      <th></th>\n      <th></th>\n      <th></th>\n      <th></th>\n      <th></th>\n      <th></th>\n      <th></th>\n      <th></th>\n      <th></th>\n      <th></th>\n      <th></th>\n      <th></th>\n      <th></th>\n      <th></th>\n    </tr>\n  </thead>\n  <tbody>\n    <tr>\n      <th>343</th>\n      <td>Inactive</td>\n      <td>28</td>\n      <td>Female</td>\n      <td>Undergraduate degree (Grado)</td>\n      <td>2019-08-19</td>\n      <td>2019-09-30</td>\n      <td>Involuntary</td>\n      <td>End of contract</td>\n      <td>2019-08-19</td>\n      <td>People</td>\n      <td>...</td>\n      <td>1.0</td>\n      <td>6047</td>\n      <td>EUR</td>\n      <td>Reduce/Increase Working hours</td>\n      <td>N</td>\n      <td>Unknown</td>\n      <td>No</td>\n      <td>1 month, 11 days</td>\n      <td>0</td>\n      <td>1</td>\n    </tr>\n    <tr>\n      <th>468</th>\n      <td>Inactive</td>\n      <td>29</td>\n      <td>Male</td>\n      <td>Unknown</td>\n      <td>2016-07-05</td>\n      <td>2017-03-30</td>\n      <td>Involuntary</td>\n      <td>End of contract</td>\n      <td>2016-07-05</td>\n      <td>Engineering</td>\n      <td>...</td>\n      <td>234.0</td>\n      <td>6144</td>\n      <td>EUR</td>\n      <td>Unknown</td>\n      <td>N</td>\n      <td>Unknown</td>\n      <td>No</td>\n      <td>8 months, 25 days</td>\n      <td>0</td>\n      <td>8</td>\n    </tr>\n    <tr>\n      <th>458</th>\n      <td>Inactive</td>\n      <td>27</td>\n      <td>Male</td>\n      <td>Unknown</td>\n      <td>2016-09-05</td>\n      <td>2017-01-26</td>\n      <td>Involuntary</td>\n      <td>End of contract</td>\n      <td>2016-09-05</td>\n      <td>Engineering</td>\n      <td>...</td>\n      <td>0.0</td>\n      <td>6144</td>\n      <td>EUR</td>\n      <td>Unknown</td>\n      <td>N</td>\n      <td>Unknown</td>\n      <td>No</td>\n      <td>4 months, 21 days</td>\n      <td>0</td>\n      <td>4</td>\n    </tr>\n    <tr>\n      <th>379</th>\n      <td>Inactive</td>\n      <td>25</td>\n      <td>Male</td>\n      <td>Undergraduate degree (Grado)</td>\n      <td>2017-10-23</td>\n      <td>2018-08-28</td>\n      <td>Involuntary</td>\n      <td>End of contract</td>\n      <td>2017-10-23</td>\n      <td>Engineering</td>\n      <td>...</td>\n      <td>0.0</td>\n      <td>6144</td>\n      <td>EUR</td>\n      <td>New hire</td>\n      <td>N</td>\n      <td>Unknown</td>\n      <td>No</td>\n      <td>10 months, 5 days</td>\n      <td>0</td>\n      <td>10</td>\n    </tr>\n    <tr>\n      <th>492</th>\n      <td>Inactive</td>\n      <td>58</td>\n      <td>Female</td>\n      <td>Unknown</td>\n      <td>2017-09-13</td>\n      <td>2017-09-29</td>\n      <td>Involuntary</td>\n      <td>End of contract</td>\n      <td>2017-09-13</td>\n      <td>People</td>\n      <td>...</td>\n      <td>0.0</td>\n      <td>7200</td>\n      <td>EUR</td>\n      <td>Unknown</td>\n      <td>N</td>\n      <td>Unknown</td>\n      <td>No</td>\n      <td>16 days</td>\n      <td>0</td>\n      <td>0</td>\n    </tr>\n  </tbody>\n</table>\n<p>5 rows × 21 columns</p>\n</div>"
     },
     "metadata": {},
     "execution_count": 27
    }
   ],
   "source": [
    "df.head()"
   ]
  },
  {
   "cell_type": "code",
   "execution_count": 26,
   "metadata": {},
   "outputs": [],
   "source": [
    "today = pd.to_datetime(datetime.today().strftime('%Y-%m-%d'))\n",
    "length = (df['Termination Date'].fillna(today) - df['Hire Date']) / 30\n",
    "df['Length of service: Months'] = length.astype(str).apply(lambda x: int(x.split(' ')[0]))\n",
    "\n",
    "# for index, row in df.iterrows():\n",
    "#     if row['Termination Date'] is not pd.NaT:\n",
    "#         months = (row['Termination Date'] - row['Hire Date']) / 30\n",
    "#         \n",
    "#         row['Length of service: Months'].append(data)\n",
    "#     else:\n",
    "#         months = (today - row['Hire Date']) / 30\n",
    "#         data = int(str(months).split(' ')[0])\n",
    "#         row['Length of service: Months'].append(data) "
   ]
  },
  {
   "cell_type": "code",
   "execution_count": null,
   "metadata": {},
   "outputs": [],
   "source": []
  },
  {
   "cell_type": "code",
   "execution_count": null,
   "metadata": {},
   "outputs": [],
   "source": []
  },
  {
   "cell_type": "code",
   "execution_count": null,
   "metadata": {},
   "outputs": [],
   "source": []
  },
  {
   "source": [
    "Pasar variables categóricas a numéricas con el one-hot-encoding o con el get dummies"
   ],
   "cell_type": "markdown",
   "metadata": {}
  },
  {
   "source": [
    "# Scaler"
   ],
   "cell_type": "markdown",
   "metadata": {}
  },
  {
   "cell_type": "code",
   "execution_count": null,
   "metadata": {},
   "outputs": [],
   "source": [
    "df_scale = df[['Pay rate']]\n",
    "df_scale.head()"
   ]
  },
  {
   "cell_type": "code",
   "execution_count": null,
   "metadata": {},
   "outputs": [],
   "source": [
    "scale = StandardScaler()"
   ]
  },
  {
   "cell_type": "code",
   "execution_count": null,
   "metadata": {},
   "outputs": [],
   "source": [
    "scale.fit_transform(df_scale)"
   ]
  },
  {
   "cell_type": "code",
   "execution_count": null,
   "metadata": {},
   "outputs": [],
   "source": []
  }
 ]
}