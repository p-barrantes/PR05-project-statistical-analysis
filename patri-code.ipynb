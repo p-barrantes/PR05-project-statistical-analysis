{
 "metadata": {
  "language_info": {
   "codemirror_mode": {
    "name": "ipython",
    "version": 3
   },
   "file_extension": ".py",
   "mimetype": "text/x-python",
   "name": "python",
   "nbconvert_exporter": "python",
   "pygments_lexer": "ipython3",
   "version": "3.8.5"
  },
  "orig_nbformat": 2,
  "kernelspec": {
   "name": "python385jvsc74a57bd0dca0ade3e726a953b501b15e8e990130d2b7799f14cfd9f4271676035ebe5511",
   "display_name": "Python 3.8.5 64-bit ('base': conda)"
  }
 },
 "nbformat": 4,
 "nbformat_minor": 2,
 "cells": [
  {
   "cell_type": "code",
   "execution_count": 24,
   "metadata": {},
   "outputs": [],
   "source": [
    "import pandas as pd\n",
    "import numpy as np\n",
    "from datetime import datetime\n",
    "\n",
    "import matplotlib.pyplot as plt\n",
    "import seaborn as sns\n",
    "\n",
    "from scipy import stats\n",
    "\n",
    "from sklearn.preprocessing import StandardScaler\n",
    "from sklearn import decomposition\n",
    "from sklearn.decomposition import PCA, NMF, FastICA\n",
    "from sklearn.manifold import TSNE, Isomap, LocallyLinearEmbedding, MDS, SpectralEmbedding"
   ]
  },
  {
   "cell_type": "code",
   "execution_count": 2,
   "metadata": {},
   "outputs": [],
   "source": [
    "df = pd.read_csv('./project-public-clean.csv')"
   ]
  },
  {
   "cell_type": "code",
   "execution_count": 3,
   "metadata": {},
   "outputs": [],
   "source": [
    "df.set_index(df['EEID'], inplace=True)\n",
    "df.drop(columns='EEID', inplace=True)"
   ]
  },
  {
   "cell_type": "code",
   "execution_count": 4,
   "metadata": {},
   "outputs": [
    {
     "output_type": "execute_result",
     "data": {
      "text/plain": [
       "        Status  Age  Gender               Education Level   Hire Date  \\\n",
       "EEID                                                                    \n",
       "343   Inactive   28  Female  Undergraduate degree (Grado)  2019-08-19   \n",
       "468   Inactive   29    Male                       Unknown  2016-07-05   \n",
       "458   Inactive   27    Male                       Unknown  2016-09-05   \n",
       "379   Inactive   25    Male  Undergraduate degree (Grado)  2017-10-23   \n",
       "492   Inactive   58  Female                       Unknown  2017-09-13   \n",
       "\n",
       "     Termination Date Termination Type Termination Reason  \\\n",
       "EEID                                                        \n",
       "343        2019-09-30      Involuntary    End of contract   \n",
       "468        2017-03-30      Involuntary    End of contract   \n",
       "458        2017-01-26      Involuntary    End of contract   \n",
       "379        2018-08-28      Involuntary    End of contract   \n",
       "492        2017-09-29      Involuntary    End of contract   \n",
       "\n",
       "     Job Information: Date     Division  ... Supervisor EID  Pay rate  \\\n",
       "EEID                                     ...                            \n",
       "343             2019-08-19       People  ...              1    6047.0   \n",
       "468             2016-07-05  Engineering  ...            234    6144.0   \n",
       "458             2016-09-05  Engineering  ...              0    6144.0   \n",
       "379             2017-10-23  Engineering  ...              0    6144.0   \n",
       "492             2017-09-13       People  ...              0    7200.0   \n",
       "\n",
       "      Pay rate - Currency code     Compensation Change Reason Stock Options  \\\n",
       "EEID                                                                          \n",
       "343                        EUR  Reduce/Increase Working hours             N   \n",
       "468                        EUR                        Unknown             N   \n",
       "458                        EUR                        Unknown             N   \n",
       "379                        EUR                       New hire             N   \n",
       "492                        EUR                        Unknown             N   \n",
       "\n",
       "        Level Is Supervisor  Length of service Length of service: Years  \\\n",
       "EEID                                                                      \n",
       "343   Unknown            No   1 month, 11 days                        0   \n",
       "468   Unknown            No  8 months, 25 days                        0   \n",
       "458   Unknown            No  4 months, 21 days                        0   \n",
       "379   Unknown            No  10 months, 5 days                        0   \n",
       "492   Unknown            No            16 days                        0   \n",
       "\n",
       "      Length of service: Months  \n",
       "EEID                             \n",
       "343                           1  \n",
       "468                           8  \n",
       "458                           4  \n",
       "379                          10  \n",
       "492                           0  \n",
       "\n",
       "[5 rows x 21 columns]"
      ],
      "text/html": "<div>\n<style scoped>\n    .dataframe tbody tr th:only-of-type {\n        vertical-align: middle;\n    }\n\n    .dataframe tbody tr th {\n        vertical-align: top;\n    }\n\n    .dataframe thead th {\n        text-align: right;\n    }\n</style>\n<table border=\"1\" class=\"dataframe\">\n  <thead>\n    <tr style=\"text-align: right;\">\n      <th></th>\n      <th>Status</th>\n      <th>Age</th>\n      <th>Gender</th>\n      <th>Education Level</th>\n      <th>Hire Date</th>\n      <th>Termination Date</th>\n      <th>Termination Type</th>\n      <th>Termination Reason</th>\n      <th>Job Information: Date</th>\n      <th>Division</th>\n      <th>...</th>\n      <th>Supervisor EID</th>\n      <th>Pay rate</th>\n      <th>Pay rate - Currency code</th>\n      <th>Compensation Change Reason</th>\n      <th>Stock Options</th>\n      <th>Level</th>\n      <th>Is Supervisor</th>\n      <th>Length of service</th>\n      <th>Length of service: Years</th>\n      <th>Length of service: Months</th>\n    </tr>\n    <tr>\n      <th>EEID</th>\n      <th></th>\n      <th></th>\n      <th></th>\n      <th></th>\n      <th></th>\n      <th></th>\n      <th></th>\n      <th></th>\n      <th></th>\n      <th></th>\n      <th></th>\n      <th></th>\n      <th></th>\n      <th></th>\n      <th></th>\n      <th></th>\n      <th></th>\n      <th></th>\n      <th></th>\n      <th></th>\n      <th></th>\n    </tr>\n  </thead>\n  <tbody>\n    <tr>\n      <th>343</th>\n      <td>Inactive</td>\n      <td>28</td>\n      <td>Female</td>\n      <td>Undergraduate degree (Grado)</td>\n      <td>2019-08-19</td>\n      <td>2019-09-30</td>\n      <td>Involuntary</td>\n      <td>End of contract</td>\n      <td>2019-08-19</td>\n      <td>People</td>\n      <td>...</td>\n      <td>1</td>\n      <td>6047.0</td>\n      <td>EUR</td>\n      <td>Reduce/Increase Working hours</td>\n      <td>N</td>\n      <td>Unknown</td>\n      <td>No</td>\n      <td>1 month, 11 days</td>\n      <td>0</td>\n      <td>1</td>\n    </tr>\n    <tr>\n      <th>468</th>\n      <td>Inactive</td>\n      <td>29</td>\n      <td>Male</td>\n      <td>Unknown</td>\n      <td>2016-07-05</td>\n      <td>2017-03-30</td>\n      <td>Involuntary</td>\n      <td>End of contract</td>\n      <td>2016-07-05</td>\n      <td>Engineering</td>\n      <td>...</td>\n      <td>234</td>\n      <td>6144.0</td>\n      <td>EUR</td>\n      <td>Unknown</td>\n      <td>N</td>\n      <td>Unknown</td>\n      <td>No</td>\n      <td>8 months, 25 days</td>\n      <td>0</td>\n      <td>8</td>\n    </tr>\n    <tr>\n      <th>458</th>\n      <td>Inactive</td>\n      <td>27</td>\n      <td>Male</td>\n      <td>Unknown</td>\n      <td>2016-09-05</td>\n      <td>2017-01-26</td>\n      <td>Involuntary</td>\n      <td>End of contract</td>\n      <td>2016-09-05</td>\n      <td>Engineering</td>\n      <td>...</td>\n      <td>0</td>\n      <td>6144.0</td>\n      <td>EUR</td>\n      <td>Unknown</td>\n      <td>N</td>\n      <td>Unknown</td>\n      <td>No</td>\n      <td>4 months, 21 days</td>\n      <td>0</td>\n      <td>4</td>\n    </tr>\n    <tr>\n      <th>379</th>\n      <td>Inactive</td>\n      <td>25</td>\n      <td>Male</td>\n      <td>Undergraduate degree (Grado)</td>\n      <td>2017-10-23</td>\n      <td>2018-08-28</td>\n      <td>Involuntary</td>\n      <td>End of contract</td>\n      <td>2017-10-23</td>\n      <td>Engineering</td>\n      <td>...</td>\n      <td>0</td>\n      <td>6144.0</td>\n      <td>EUR</td>\n      <td>New hire</td>\n      <td>N</td>\n      <td>Unknown</td>\n      <td>No</td>\n      <td>10 months, 5 days</td>\n      <td>0</td>\n      <td>10</td>\n    </tr>\n    <tr>\n      <th>492</th>\n      <td>Inactive</td>\n      <td>58</td>\n      <td>Female</td>\n      <td>Unknown</td>\n      <td>2017-09-13</td>\n      <td>2017-09-29</td>\n      <td>Involuntary</td>\n      <td>End of contract</td>\n      <td>2017-09-13</td>\n      <td>People</td>\n      <td>...</td>\n      <td>0</td>\n      <td>7200.0</td>\n      <td>EUR</td>\n      <td>Unknown</td>\n      <td>N</td>\n      <td>Unknown</td>\n      <td>No</td>\n      <td>16 days</td>\n      <td>0</td>\n      <td>0</td>\n    </tr>\n  </tbody>\n</table>\n<p>5 rows × 21 columns</p>\n</div>"
     },
     "metadata": {},
     "execution_count": 4
    }
   ],
   "source": [
    "df.head()"
   ]
  },
  {
   "cell_type": "code",
   "execution_count": 5,
   "metadata": {},
   "outputs": [
    {
     "output_type": "stream",
     "name": "stdout",
     "text": [
      "<class 'pandas.core.frame.DataFrame'>\nInt64Index: 607 entries, 343 to 721\nData columns (total 21 columns):\n #   Column                      Non-Null Count  Dtype  \n---  ------                      --------------  -----  \n 0   Status                      607 non-null    object \n 1   Age                         607 non-null    int64  \n 2   Gender                      607 non-null    object \n 3   Education Level             607 non-null    object \n 4   Hire Date                   607 non-null    object \n 5   Termination Date            258 non-null    object \n 6   Termination Type            258 non-null    object \n 7   Termination Reason          254 non-null    object \n 8   Job Information: Date       607 non-null    object \n 9   Division                    607 non-null    object \n 10  Department                  607 non-null    object \n 11  Supervisor EID              607 non-null    int64  \n 12  Pay rate                    607 non-null    float64\n 13  Pay rate - Currency code    607 non-null    object \n 14  Compensation Change Reason  607 non-null    object \n 15  Stock Options               607 non-null    object \n 16  Level                       607 non-null    object \n 17  Is Supervisor               607 non-null    object \n 18  Length of service           607 non-null    object \n 19  Length of service: Years    607 non-null    int64  \n 20  Length of service: Months   607 non-null    int64  \ndtypes: float64(1), int64(4), object(16)\nmemory usage: 104.3+ KB\n"
     ]
    }
   ],
   "source": [
    "df.info()"
   ]
  },
  {
   "cell_type": "code",
   "execution_count": 73,
   "metadata": {},
   "outputs": [
    {
     "output_type": "execute_result",
     "data": {
      "text/plain": [
       "EEID\n",
       "343      6047.0\n",
       "468      6144.0\n",
       "458      6144.0\n",
       "379      6144.0\n",
       "492      7200.0\n",
       "         ...   \n",
       "431    173184.0\n",
       "760    180400.0\n",
       "773    180400.0\n",
       "725    213856.0\n",
       "721    262400.0\n",
       "Length: 607, dtype: float64"
      ]
     },
     "metadata": {},
     "execution_count": 73
    }
   ],
   "source": [
    "df.apply(lambda x: (x['Pay rate'] * 0.82) if x['Pay rate - Currency code'] == 'USD' else x['Pay rate'], axis=1)"
   ]
  },
  {
   "cell_type": "code",
   "execution_count": 55,
   "metadata": {},
   "outputs": [],
   "source": [
    "df['Pay rate EUR'] = np.where(df['Pay rate - Currency code'] == 'USD', df['Pay rate'] * 0.82, df['Pay rate'])"
   ]
  },
  {
   "cell_type": "code",
   "execution_count": 56,
   "metadata": {},
   "outputs": [],
   "source": [
    "df['Pay rate EUR'] = np.where(df['Pay rate - Currency code'] == 'GBP', df['Pay rate'] * 1.16, df['Pay rate EUR'])"
   ]
  },
  {
   "cell_type": "code",
   "execution_count": 65,
   "metadata": {},
   "outputs": [
    {
     "output_type": "execute_result",
     "data": {
      "text/plain": [
       "      Pay rate Pay rate - Currency code  Pay rate converted  Pay rate EUR\n",
       "EEID                                                                     \n",
       "428    24960.0                      USD             20467.2       20467.2\n",
       "457    24960.0                      USD             20467.2       20467.2\n",
       "691    37600.0                      USD             30832.0       30832.0\n",
       "541    39200.0                      USD             32144.0       32144.0\n",
       "626    39200.0                      USD             32144.0       32144.0\n",
       "...        ...                      ...                 ...           ...\n",
       "431   211200.0                      USD            173184.0      173184.0\n",
       "760   220000.0                      USD            180400.0      180400.0\n",
       "773   220000.0                      USD            180400.0      180400.0\n",
       "725   260800.0                      USD            213856.0      213856.0\n",
       "721   320000.0                      USD            262400.0      262400.0\n",
       "\n",
       "[62 rows x 4 columns]"
      ],
      "text/html": "<div>\n<style scoped>\n    .dataframe tbody tr th:only-of-type {\n        vertical-align: middle;\n    }\n\n    .dataframe tbody tr th {\n        vertical-align: top;\n    }\n\n    .dataframe thead th {\n        text-align: right;\n    }\n</style>\n<table border=\"1\" class=\"dataframe\">\n  <thead>\n    <tr style=\"text-align: right;\">\n      <th></th>\n      <th>Pay rate</th>\n      <th>Pay rate - Currency code</th>\n      <th>Pay rate converted</th>\n      <th>Pay rate EUR</th>\n    </tr>\n    <tr>\n      <th>EEID</th>\n      <th></th>\n      <th></th>\n      <th></th>\n      <th></th>\n    </tr>\n  </thead>\n  <tbody>\n    <tr>\n      <th>428</th>\n      <td>24960.0</td>\n      <td>USD</td>\n      <td>20467.2</td>\n      <td>20467.2</td>\n    </tr>\n    <tr>\n      <th>457</th>\n      <td>24960.0</td>\n      <td>USD</td>\n      <td>20467.2</td>\n      <td>20467.2</td>\n    </tr>\n    <tr>\n      <th>691</th>\n      <td>37600.0</td>\n      <td>USD</td>\n      <td>30832.0</td>\n      <td>30832.0</td>\n    </tr>\n    <tr>\n      <th>541</th>\n      <td>39200.0</td>\n      <td>USD</td>\n      <td>32144.0</td>\n      <td>32144.0</td>\n    </tr>\n    <tr>\n      <th>626</th>\n      <td>39200.0</td>\n      <td>USD</td>\n      <td>32144.0</td>\n      <td>32144.0</td>\n    </tr>\n    <tr>\n      <th>...</th>\n      <td>...</td>\n      <td>...</td>\n      <td>...</td>\n      <td>...</td>\n    </tr>\n    <tr>\n      <th>431</th>\n      <td>211200.0</td>\n      <td>USD</td>\n      <td>173184.0</td>\n      <td>173184.0</td>\n    </tr>\n    <tr>\n      <th>760</th>\n      <td>220000.0</td>\n      <td>USD</td>\n      <td>180400.0</td>\n      <td>180400.0</td>\n    </tr>\n    <tr>\n      <th>773</th>\n      <td>220000.0</td>\n      <td>USD</td>\n      <td>180400.0</td>\n      <td>180400.0</td>\n    </tr>\n    <tr>\n      <th>725</th>\n      <td>260800.0</td>\n      <td>USD</td>\n      <td>213856.0</td>\n      <td>213856.0</td>\n    </tr>\n    <tr>\n      <th>721</th>\n      <td>320000.0</td>\n      <td>USD</td>\n      <td>262400.0</td>\n      <td>262400.0</td>\n    </tr>\n  </tbody>\n</table>\n<p>62 rows × 4 columns</p>\n</div>"
     },
     "metadata": {},
     "execution_count": 65
    }
   ],
   "source": [
    "df[['Pay rate', 'Pay rate - Currency code', 'Pay rate converted', 'Pay rate EUR']][df['Pay rate - Currency code'] == 'USD']"
   ]
  },
  {
   "cell_type": "code",
   "execution_count": null,
   "metadata": {},
   "outputs": [],
   "source": []
  },
  {
   "cell_type": "code",
   "execution_count": null,
   "metadata": {},
   "outputs": [],
   "source": []
  },
  {
   "source": [
    "# Analisis"
   ],
   "cell_type": "markdown",
   "metadata": {}
  },
  {
   "source": [
    "Pasar variables categóricas a numéricas con el one-hot-encoding o con el get dummies\n",
    "\n",
    "1. Identificar clusters\n",
    "2. Scaling\n",
    "3. Prediction"
   ],
   "cell_type": "markdown",
   "metadata": {}
  },
  {
   "source": [
    "# Preprocessing: encoding and scaling"
   ],
   "cell_type": "markdown",
   "metadata": {}
  },
  {
   "cell_type": "code",
   "execution_count": 6,
   "metadata": {},
   "outputs": [],
   "source": [
    "# antes de hacer el modelo despues de reconocer los clusters, pasar toda la matriz por standardscaler\n",
    "# todas las variables categoricas tienen que estar entre 0 y 1"
   ]
  },
  {
   "cell_type": "code",
   "execution_count": 7,
   "metadata": {},
   "outputs": [
    {
     "output_type": "execute_result",
     "data": {
      "text/plain": [
       "        Status  Age  Gender               Education Level   Hire Date  \\\n",
       "EEID                                                                    \n",
       "343   Inactive   28  Female  Undergraduate degree (Grado)  2019-08-19   \n",
       "468   Inactive   29    Male                       Unknown  2016-07-05   \n",
       "458   Inactive   27    Male                       Unknown  2016-09-05   \n",
       "379   Inactive   25    Male  Undergraduate degree (Grado)  2017-10-23   \n",
       "492   Inactive   58  Female                       Unknown  2017-09-13   \n",
       "\n",
       "     Termination Date Termination Type Termination Reason  \\\n",
       "EEID                                                        \n",
       "343        2019-09-30      Involuntary    End of contract   \n",
       "468        2017-03-30      Involuntary    End of contract   \n",
       "458        2017-01-26      Involuntary    End of contract   \n",
       "379        2018-08-28      Involuntary    End of contract   \n",
       "492        2017-09-29      Involuntary    End of contract   \n",
       "\n",
       "     Job Information: Date     Division  ... Supervisor EID  Pay rate  \\\n",
       "EEID                                     ...                            \n",
       "343             2019-08-19       People  ...              1    6047.0   \n",
       "468             2016-07-05  Engineering  ...            234    6144.0   \n",
       "458             2016-09-05  Engineering  ...              0    6144.0   \n",
       "379             2017-10-23  Engineering  ...              0    6144.0   \n",
       "492             2017-09-13       People  ...              0    7200.0   \n",
       "\n",
       "      Pay rate - Currency code     Compensation Change Reason Stock Options  \\\n",
       "EEID                                                                          \n",
       "343                        EUR  Reduce/Increase Working hours             N   \n",
       "468                        EUR                        Unknown             N   \n",
       "458                        EUR                        Unknown             N   \n",
       "379                        EUR                       New hire             N   \n",
       "492                        EUR                        Unknown             N   \n",
       "\n",
       "        Level Is Supervisor  Length of service Length of service: Years  \\\n",
       "EEID                                                                      \n",
       "343   Unknown            No   1 month, 11 days                        0   \n",
       "468   Unknown            No  8 months, 25 days                        0   \n",
       "458   Unknown            No  4 months, 21 days                        0   \n",
       "379   Unknown            No  10 months, 5 days                        0   \n",
       "492   Unknown            No            16 days                        0   \n",
       "\n",
       "      Length of service: Months  \n",
       "EEID                             \n",
       "343                           1  \n",
       "468                           8  \n",
       "458                           4  \n",
       "379                          10  \n",
       "492                           0  \n",
       "\n",
       "[5 rows x 21 columns]"
      ],
      "text/html": "<div>\n<style scoped>\n    .dataframe tbody tr th:only-of-type {\n        vertical-align: middle;\n    }\n\n    .dataframe tbody tr th {\n        vertical-align: top;\n    }\n\n    .dataframe thead th {\n        text-align: right;\n    }\n</style>\n<table border=\"1\" class=\"dataframe\">\n  <thead>\n    <tr style=\"text-align: right;\">\n      <th></th>\n      <th>Status</th>\n      <th>Age</th>\n      <th>Gender</th>\n      <th>Education Level</th>\n      <th>Hire Date</th>\n      <th>Termination Date</th>\n      <th>Termination Type</th>\n      <th>Termination Reason</th>\n      <th>Job Information: Date</th>\n      <th>Division</th>\n      <th>...</th>\n      <th>Supervisor EID</th>\n      <th>Pay rate</th>\n      <th>Pay rate - Currency code</th>\n      <th>Compensation Change Reason</th>\n      <th>Stock Options</th>\n      <th>Level</th>\n      <th>Is Supervisor</th>\n      <th>Length of service</th>\n      <th>Length of service: Years</th>\n      <th>Length of service: Months</th>\n    </tr>\n    <tr>\n      <th>EEID</th>\n      <th></th>\n      <th></th>\n      <th></th>\n      <th></th>\n      <th></th>\n      <th></th>\n      <th></th>\n      <th></th>\n      <th></th>\n      <th></th>\n      <th></th>\n      <th></th>\n      <th></th>\n      <th></th>\n      <th></th>\n      <th></th>\n      <th></th>\n      <th></th>\n      <th></th>\n      <th></th>\n      <th></th>\n    </tr>\n  </thead>\n  <tbody>\n    <tr>\n      <th>343</th>\n      <td>Inactive</td>\n      <td>28</td>\n      <td>Female</td>\n      <td>Undergraduate degree (Grado)</td>\n      <td>2019-08-19</td>\n      <td>2019-09-30</td>\n      <td>Involuntary</td>\n      <td>End of contract</td>\n      <td>2019-08-19</td>\n      <td>People</td>\n      <td>...</td>\n      <td>1</td>\n      <td>6047.0</td>\n      <td>EUR</td>\n      <td>Reduce/Increase Working hours</td>\n      <td>N</td>\n      <td>Unknown</td>\n      <td>No</td>\n      <td>1 month, 11 days</td>\n      <td>0</td>\n      <td>1</td>\n    </tr>\n    <tr>\n      <th>468</th>\n      <td>Inactive</td>\n      <td>29</td>\n      <td>Male</td>\n      <td>Unknown</td>\n      <td>2016-07-05</td>\n      <td>2017-03-30</td>\n      <td>Involuntary</td>\n      <td>End of contract</td>\n      <td>2016-07-05</td>\n      <td>Engineering</td>\n      <td>...</td>\n      <td>234</td>\n      <td>6144.0</td>\n      <td>EUR</td>\n      <td>Unknown</td>\n      <td>N</td>\n      <td>Unknown</td>\n      <td>No</td>\n      <td>8 months, 25 days</td>\n      <td>0</td>\n      <td>8</td>\n    </tr>\n    <tr>\n      <th>458</th>\n      <td>Inactive</td>\n      <td>27</td>\n      <td>Male</td>\n      <td>Unknown</td>\n      <td>2016-09-05</td>\n      <td>2017-01-26</td>\n      <td>Involuntary</td>\n      <td>End of contract</td>\n      <td>2016-09-05</td>\n      <td>Engineering</td>\n      <td>...</td>\n      <td>0</td>\n      <td>6144.0</td>\n      <td>EUR</td>\n      <td>Unknown</td>\n      <td>N</td>\n      <td>Unknown</td>\n      <td>No</td>\n      <td>4 months, 21 days</td>\n      <td>0</td>\n      <td>4</td>\n    </tr>\n    <tr>\n      <th>379</th>\n      <td>Inactive</td>\n      <td>25</td>\n      <td>Male</td>\n      <td>Undergraduate degree (Grado)</td>\n      <td>2017-10-23</td>\n      <td>2018-08-28</td>\n      <td>Involuntary</td>\n      <td>End of contract</td>\n      <td>2017-10-23</td>\n      <td>Engineering</td>\n      <td>...</td>\n      <td>0</td>\n      <td>6144.0</td>\n      <td>EUR</td>\n      <td>New hire</td>\n      <td>N</td>\n      <td>Unknown</td>\n      <td>No</td>\n      <td>10 months, 5 days</td>\n      <td>0</td>\n      <td>10</td>\n    </tr>\n    <tr>\n      <th>492</th>\n      <td>Inactive</td>\n      <td>58</td>\n      <td>Female</td>\n      <td>Unknown</td>\n      <td>2017-09-13</td>\n      <td>2017-09-29</td>\n      <td>Involuntary</td>\n      <td>End of contract</td>\n      <td>2017-09-13</td>\n      <td>People</td>\n      <td>...</td>\n      <td>0</td>\n      <td>7200.0</td>\n      <td>EUR</td>\n      <td>Unknown</td>\n      <td>N</td>\n      <td>Unknown</td>\n      <td>No</td>\n      <td>16 days</td>\n      <td>0</td>\n      <td>0</td>\n    </tr>\n  </tbody>\n</table>\n<p>5 rows × 21 columns</p>\n</div>"
     },
     "metadata": {},
     "execution_count": 7
    }
   ],
   "source": [
    "df.head()"
   ]
  },
  {
   "cell_type": "code",
   "execution_count": 8,
   "metadata": {},
   "outputs": [],
   "source": [
    "df['Inactive'] = pd.get_dummies(df['Status'], drop_first=True)"
   ]
  },
  {
   "cell_type": "code",
   "execution_count": 9,
   "metadata": {},
   "outputs": [],
   "source": [
    "df['Attrition'] = pd.get_dummies(df['Termination Type'], drop_first=True)"
   ]
  },
  {
   "cell_type": "code",
   "execution_count": 10,
   "metadata": {},
   "outputs": [
    {
     "output_type": "execute_result",
     "data": {
      "text/plain": [
       "Female  Male  Not Specified  Unknown\n",
       "0       1     0              0          397\n",
       "1       0     0              0          206\n",
       "0       0     1              0            3\n",
       "              0              1            1\n",
       "dtype: int64"
      ]
     },
     "metadata": {},
     "execution_count": 10
    }
   ],
   "source": [
    "pd.get_dummies(df['Gender']).value_counts()\n",
    "# quitar líneas de not specified y unknown y ponerlo todo en 1 columna de M/F - 0/1\n",
    "\n",
    "# pd.get_dummies(drop_first=True)\n",
    "# drop_first: numero de categorias que tengo menos 1. La primera columna queda automaticamente determinada por las demas, podemos llegar a predecirla. Mejor no tener todas las columnas, queremos evitar colinearidad"
   ]
  },
  {
   "cell_type": "code",
   "execution_count": 11,
   "metadata": {},
   "outputs": [],
   "source": [
    "df2 = pd.concat([df, pd.get_dummies(df['Gender'])], axis=1)"
   ]
  },
  {
   "cell_type": "code",
   "execution_count": 12,
   "metadata": {},
   "outputs": [],
   "source": [
    "df_num = df2.select_dtypes('number')"
   ]
  },
  {
   "cell_type": "code",
   "execution_count": 13,
   "metadata": {},
   "outputs": [],
   "source": [
    "df_num = df_num.drop(columns='Supervisor EID')"
   ]
  },
  {
   "cell_type": "code",
   "execution_count": 14,
   "metadata": {},
   "outputs": [],
   "source": [
    "# Eliminar filas cuyo 'Gender' sea 'Not Specified'\n",
    "df_num.drop(df_num.loc[df_num['Not Specified'] == 1].index, inplace=True)"
   ]
  },
  {
   "cell_type": "code",
   "execution_count": 15,
   "metadata": {},
   "outputs": [],
   "source": [
    "# Eliminar filas cuyo 'Gender' sea 'Unknown'\n",
    "df_num.drop(df_num.loc[df_num['Unknown'] == 1].index, inplace=True)"
   ]
  },
  {
   "cell_type": "code",
   "execution_count": 16,
   "metadata": {},
   "outputs": [],
   "source": [
    "# Eliminar columnas y quedarnos solo con 'Female'\n",
    "df_num = df_num.drop(columns=['Male', 'Not Specified', 'Unknown'])"
   ]
  },
  {
   "cell_type": "code",
   "execution_count": 17,
   "metadata": {},
   "outputs": [
    {
     "output_type": "execute_result",
     "data": {
      "text/plain": [
       "      Age  Pay rate  Length of service: Years  Length of service: Months  \\\n",
       "EEID                                                                       \n",
       "343    28    6047.0                         0                          1   \n",
       "468    29    6144.0                         0                          8   \n",
       "458    27    6144.0                         0                          4   \n",
       "379    25    6144.0                         0                         10   \n",
       "492    58    7200.0                         0                          0   \n",
       "\n",
       "      Inactive  Attrition  Female  \n",
       "EEID                               \n",
       "343          1          0       1  \n",
       "468          1          0       0  \n",
       "458          1          0       0  \n",
       "379          1          0       0  \n",
       "492          1          0       1  "
      ],
      "text/html": "<div>\n<style scoped>\n    .dataframe tbody tr th:only-of-type {\n        vertical-align: middle;\n    }\n\n    .dataframe tbody tr th {\n        vertical-align: top;\n    }\n\n    .dataframe thead th {\n        text-align: right;\n    }\n</style>\n<table border=\"1\" class=\"dataframe\">\n  <thead>\n    <tr style=\"text-align: right;\">\n      <th></th>\n      <th>Age</th>\n      <th>Pay rate</th>\n      <th>Length of service: Years</th>\n      <th>Length of service: Months</th>\n      <th>Inactive</th>\n      <th>Attrition</th>\n      <th>Female</th>\n    </tr>\n    <tr>\n      <th>EEID</th>\n      <th></th>\n      <th></th>\n      <th></th>\n      <th></th>\n      <th></th>\n      <th></th>\n      <th></th>\n    </tr>\n  </thead>\n  <tbody>\n    <tr>\n      <th>343</th>\n      <td>28</td>\n      <td>6047.0</td>\n      <td>0</td>\n      <td>1</td>\n      <td>1</td>\n      <td>0</td>\n      <td>1</td>\n    </tr>\n    <tr>\n      <th>468</th>\n      <td>29</td>\n      <td>6144.0</td>\n      <td>0</td>\n      <td>8</td>\n      <td>1</td>\n      <td>0</td>\n      <td>0</td>\n    </tr>\n    <tr>\n      <th>458</th>\n      <td>27</td>\n      <td>6144.0</td>\n      <td>0</td>\n      <td>4</td>\n      <td>1</td>\n      <td>0</td>\n      <td>0</td>\n    </tr>\n    <tr>\n      <th>379</th>\n      <td>25</td>\n      <td>6144.0</td>\n      <td>0</td>\n      <td>10</td>\n      <td>1</td>\n      <td>0</td>\n      <td>0</td>\n    </tr>\n    <tr>\n      <th>492</th>\n      <td>58</td>\n      <td>7200.0</td>\n      <td>0</td>\n      <td>0</td>\n      <td>1</td>\n      <td>0</td>\n      <td>1</td>\n    </tr>\n  </tbody>\n</table>\n</div>"
     },
     "metadata": {},
     "execution_count": 17
    }
   ],
   "source": [
    "df_num.head()"
   ]
  },
  {
   "source": [
    "# Statistical Analysis"
   ],
   "cell_type": "markdown",
   "metadata": {}
  },
  {
   "cell_type": "code",
   "execution_count": 22,
   "metadata": {},
   "outputs": [
    {
     "output_type": "execute_result",
     "data": {
      "text/plain": [
       "        Status  Age  Gender               Education Level   Hire Date  \\\n",
       "EEID                                                                    \n",
       "343   Inactive   28  Female  Undergraduate degree (Grado)  2019-08-19   \n",
       "468   Inactive   29    Male                       Unknown  2016-07-05   \n",
       "458   Inactive   27    Male                       Unknown  2016-09-05   \n",
       "379   Inactive   25    Male  Undergraduate degree (Grado)  2017-10-23   \n",
       "492   Inactive   58  Female                       Unknown  2017-09-13   \n",
       "\n",
       "     Termination Date Termination Type Termination Reason  \\\n",
       "EEID                                                        \n",
       "343        2019-09-30      Involuntary    End of contract   \n",
       "468        2017-03-30      Involuntary    End of contract   \n",
       "458        2017-01-26      Involuntary    End of contract   \n",
       "379        2018-08-28      Involuntary    End of contract   \n",
       "492        2017-09-29      Involuntary    End of contract   \n",
       "\n",
       "     Job Information: Date     Division  ... Pay rate - Currency code  \\\n",
       "EEID                                     ...                            \n",
       "343             2019-08-19       People  ...                      EUR   \n",
       "468             2016-07-05  Engineering  ...                      EUR   \n",
       "458             2016-09-05  Engineering  ...                      EUR   \n",
       "379             2017-10-23  Engineering  ...                      EUR   \n",
       "492             2017-09-13       People  ...                      EUR   \n",
       "\n",
       "         Compensation Change Reason  Stock Options    Level Is Supervisor  \\\n",
       "EEID                                                                        \n",
       "343   Reduce/Increase Working hours              N  Unknown            No   \n",
       "468                         Unknown              N  Unknown            No   \n",
       "458                         Unknown              N  Unknown            No   \n",
       "379                        New hire              N  Unknown            No   \n",
       "492                         Unknown              N  Unknown            No   \n",
       "\n",
       "      Length of service Length of service: Years Length of service: Months  \\\n",
       "EEID                                                                         \n",
       "343    1 month, 11 days                        0                         1   \n",
       "468   8 months, 25 days                        0                         8   \n",
       "458   4 months, 21 days                        0                         4   \n",
       "379   10 months, 5 days                        0                        10   \n",
       "492             16 days                        0                         0   \n",
       "\n",
       "     Inactive  Attrition  \n",
       "EEID                      \n",
       "343         1          0  \n",
       "468         1          0  \n",
       "458         1          0  \n",
       "379         1          0  \n",
       "492         1          0  \n",
       "\n",
       "[5 rows x 23 columns]"
      ],
      "text/html": "<div>\n<style scoped>\n    .dataframe tbody tr th:only-of-type {\n        vertical-align: middle;\n    }\n\n    .dataframe tbody tr th {\n        vertical-align: top;\n    }\n\n    .dataframe thead th {\n        text-align: right;\n    }\n</style>\n<table border=\"1\" class=\"dataframe\">\n  <thead>\n    <tr style=\"text-align: right;\">\n      <th></th>\n      <th>Status</th>\n      <th>Age</th>\n      <th>Gender</th>\n      <th>Education Level</th>\n      <th>Hire Date</th>\n      <th>Termination Date</th>\n      <th>Termination Type</th>\n      <th>Termination Reason</th>\n      <th>Job Information: Date</th>\n      <th>Division</th>\n      <th>...</th>\n      <th>Pay rate - Currency code</th>\n      <th>Compensation Change Reason</th>\n      <th>Stock Options</th>\n      <th>Level</th>\n      <th>Is Supervisor</th>\n      <th>Length of service</th>\n      <th>Length of service: Years</th>\n      <th>Length of service: Months</th>\n      <th>Inactive</th>\n      <th>Attrition</th>\n    </tr>\n    <tr>\n      <th>EEID</th>\n      <th></th>\n      <th></th>\n      <th></th>\n      <th></th>\n      <th></th>\n      <th></th>\n      <th></th>\n      <th></th>\n      <th></th>\n      <th></th>\n      <th></th>\n      <th></th>\n      <th></th>\n      <th></th>\n      <th></th>\n      <th></th>\n      <th></th>\n      <th></th>\n      <th></th>\n      <th></th>\n      <th></th>\n    </tr>\n  </thead>\n  <tbody>\n    <tr>\n      <th>343</th>\n      <td>Inactive</td>\n      <td>28</td>\n      <td>Female</td>\n      <td>Undergraduate degree (Grado)</td>\n      <td>2019-08-19</td>\n      <td>2019-09-30</td>\n      <td>Involuntary</td>\n      <td>End of contract</td>\n      <td>2019-08-19</td>\n      <td>People</td>\n      <td>...</td>\n      <td>EUR</td>\n      <td>Reduce/Increase Working hours</td>\n      <td>N</td>\n      <td>Unknown</td>\n      <td>No</td>\n      <td>1 month, 11 days</td>\n      <td>0</td>\n      <td>1</td>\n      <td>1</td>\n      <td>0</td>\n    </tr>\n    <tr>\n      <th>468</th>\n      <td>Inactive</td>\n      <td>29</td>\n      <td>Male</td>\n      <td>Unknown</td>\n      <td>2016-07-05</td>\n      <td>2017-03-30</td>\n      <td>Involuntary</td>\n      <td>End of contract</td>\n      <td>2016-07-05</td>\n      <td>Engineering</td>\n      <td>...</td>\n      <td>EUR</td>\n      <td>Unknown</td>\n      <td>N</td>\n      <td>Unknown</td>\n      <td>No</td>\n      <td>8 months, 25 days</td>\n      <td>0</td>\n      <td>8</td>\n      <td>1</td>\n      <td>0</td>\n    </tr>\n    <tr>\n      <th>458</th>\n      <td>Inactive</td>\n      <td>27</td>\n      <td>Male</td>\n      <td>Unknown</td>\n      <td>2016-09-05</td>\n      <td>2017-01-26</td>\n      <td>Involuntary</td>\n      <td>End of contract</td>\n      <td>2016-09-05</td>\n      <td>Engineering</td>\n      <td>...</td>\n      <td>EUR</td>\n      <td>Unknown</td>\n      <td>N</td>\n      <td>Unknown</td>\n      <td>No</td>\n      <td>4 months, 21 days</td>\n      <td>0</td>\n      <td>4</td>\n      <td>1</td>\n      <td>0</td>\n    </tr>\n    <tr>\n      <th>379</th>\n      <td>Inactive</td>\n      <td>25</td>\n      <td>Male</td>\n      <td>Undergraduate degree (Grado)</td>\n      <td>2017-10-23</td>\n      <td>2018-08-28</td>\n      <td>Involuntary</td>\n      <td>End of contract</td>\n      <td>2017-10-23</td>\n      <td>Engineering</td>\n      <td>...</td>\n      <td>EUR</td>\n      <td>New hire</td>\n      <td>N</td>\n      <td>Unknown</td>\n      <td>No</td>\n      <td>10 months, 5 days</td>\n      <td>0</td>\n      <td>10</td>\n      <td>1</td>\n      <td>0</td>\n    </tr>\n    <tr>\n      <th>492</th>\n      <td>Inactive</td>\n      <td>58</td>\n      <td>Female</td>\n      <td>Unknown</td>\n      <td>2017-09-13</td>\n      <td>2017-09-29</td>\n      <td>Involuntary</td>\n      <td>End of contract</td>\n      <td>2017-09-13</td>\n      <td>People</td>\n      <td>...</td>\n      <td>EUR</td>\n      <td>Unknown</td>\n      <td>N</td>\n      <td>Unknown</td>\n      <td>No</td>\n      <td>16 days</td>\n      <td>0</td>\n      <td>0</td>\n      <td>1</td>\n      <td>0</td>\n    </tr>\n  </tbody>\n</table>\n<p>5 rows × 23 columns</p>\n</div>"
     },
     "metadata": {},
     "execution_count": 22
    }
   ],
   "source": [
    "df.head()"
   ]
  },
  {
   "cell_type": "code",
   "execution_count": 23,
   "metadata": {},
   "outputs": [
    {
     "output_type": "execute_result",
     "data": {
      "text/plain": [
       "0.30642504118616143"
      ]
     },
     "metadata": {},
     "execution_count": 23
    }
   ],
   "source": [
    "df['Attrition'].mean()"
   ]
  },
  {
   "cell_type": "code",
   "execution_count": 25,
   "metadata": {},
   "outputs": [
    {
     "output_type": "execute_result",
     "data": {
      "text/plain": [
       "-1.2947539141317397"
      ]
     },
     "metadata": {},
     "execution_count": 25
    }
   ],
   "source": [
    "stats.kurtosis(df['Attrition'])"
   ]
  },
  {
   "cell_type": "code",
   "execution_count": 26,
   "metadata": {},
   "outputs": [
    {
     "output_type": "execute_result",
     "data": {
      "text/plain": [
       "<seaborn.axisgrid.FacetGrid at 0x7ff0c2711520>"
      ]
     },
     "metadata": {},
     "execution_count": 26
    },
    {
     "output_type": "display_data",
     "data": {
      "text/plain": "<Figure size 360x360 with 1 Axes>",
      "image/svg+xml": "<?xml version=\"1.0\" encoding=\"utf-8\" standalone=\"no\"?>\n<!DOCTYPE svg PUBLIC \"-//W3C//DTD SVG 1.1//EN\"\n  \"http://www.w3.org/Graphics/SVG/1.1/DTD/svg11.dtd\">\n<!-- Created with matplotlib (https://matplotlib.org/) -->\n<svg height=\"352.15625pt\" version=\"1.1\" viewBox=\"0 0 352.440625 352.15625\" width=\"352.440625pt\" xmlns=\"http://www.w3.org/2000/svg\" xmlns:xlink=\"http://www.w3.org/1999/xlink\">\n <metadata>\n  <rdf:RDF xmlns:cc=\"http://creativecommons.org/ns#\" xmlns:dc=\"http://purl.org/dc/elements/1.1/\" xmlns:rdf=\"http://www.w3.org/1999/02/22-rdf-syntax-ns#\">\n   <cc:Work>\n    <dc:type rdf:resource=\"http://purl.org/dc/dcmitype/StillImage\"/>\n    <dc:date>2021-05-31T16:48:45.799792</dc:date>\n    <dc:format>image/svg+xml</dc:format>\n    <dc:creator>\n     <cc:Agent>\n      <dc:title>Matplotlib v3.3.2, https://matplotlib.org/</dc:title>\n     </cc:Agent>\n    </dc:creator>\n   </cc:Work>\n  </rdf:RDF>\n </metadata>\n <defs>\n  <style type=\"text/css\">*{stroke-linecap:butt;stroke-linejoin:round;}</style>\n </defs>\n <g id=\"figure_1\">\n  <g id=\"patch_1\">\n   <path d=\"M 0 352.15625 \nL 352.440625 352.15625 \nL 352.440625 0 \nL 0 0 \nz\n\" style=\"fill:none;\"/>\n  </g>\n  <g id=\"axes_1\">\n   <g id=\"patch_2\">\n    <path d=\"M 46.965625 314.6 \nL 345.240625 314.6 \nL 345.240625 7.2 \nL 46.965625 7.2 \nz\n\" style=\"fill:#ffffff;\"/>\n   </g>\n   <g id=\"patch_3\">\n    <path clip-path=\"url(#pa3e9e3371f)\" d=\"M 60.52358 314.6 \nL 85.174406 314.6 \nL 85.174406 21.838095 \nL 60.52358 21.838095 \nz\n\" style=\"fill:#1f77b4;fill-opacity:0.75;stroke:#000000;stroke-linejoin:miter;\"/>\n   </g>\n   <g id=\"patch_4\">\n    <path clip-path=\"url(#pa3e9e3371f)\" d=\"M 85.174406 314.6 \nL 109.825232 314.6 \nL 109.825232 314.6 \nL 85.174406 314.6 \nz\n\" style=\"fill:#1f77b4;fill-opacity:0.75;stroke:#000000;stroke-linejoin:miter;\"/>\n   </g>\n   <g id=\"patch_5\">\n    <path clip-path=\"url(#pa3e9e3371f)\" d=\"M 109.825232 314.6 \nL 134.476059 314.6 \nL 134.476059 314.6 \nL 109.825232 314.6 \nz\n\" style=\"fill:#1f77b4;fill-opacity:0.75;stroke:#000000;stroke-linejoin:miter;\"/>\n   </g>\n   <g id=\"patch_6\">\n    <path clip-path=\"url(#pa3e9e3371f)\" d=\"M 134.476059 314.6 \nL 159.126885 314.6 \nL 159.126885 314.6 \nL 134.476059 314.6 \nz\n\" style=\"fill:#1f77b4;fill-opacity:0.75;stroke:#000000;stroke-linejoin:miter;\"/>\n   </g>\n   <g id=\"patch_7\">\n    <path clip-path=\"url(#pa3e9e3371f)\" d=\"M 159.126885 314.6 \nL 183.777712 314.6 \nL 183.777712 314.6 \nL 159.126885 314.6 \nz\n\" style=\"fill:#1f77b4;fill-opacity:0.75;stroke:#000000;stroke-linejoin:miter;\"/>\n   </g>\n   <g id=\"patch_8\">\n    <path clip-path=\"url(#pa3e9e3371f)\" d=\"M 183.777712 314.6 \nL 208.428538 314.6 \nL 208.428538 314.6 \nL 183.777712 314.6 \nz\n\" style=\"fill:#1f77b4;fill-opacity:0.75;stroke:#000000;stroke-linejoin:miter;\"/>\n   </g>\n   <g id=\"patch_9\">\n    <path clip-path=\"url(#pa3e9e3371f)\" d=\"M 208.428538 314.6 \nL 233.079365 314.6 \nL 233.079365 314.6 \nL 208.428538 314.6 \nz\n\" style=\"fill:#1f77b4;fill-opacity:0.75;stroke:#000000;stroke-linejoin:miter;\"/>\n   </g>\n   <g id=\"patch_10\">\n    <path clip-path=\"url(#pa3e9e3371f)\" d=\"M 233.079365 314.6 \nL 257.730191 314.6 \nL 257.730191 314.6 \nL 233.079365 314.6 \nz\n\" style=\"fill:#1f77b4;fill-opacity:0.75;stroke:#000000;stroke-linejoin:miter;\"/>\n   </g>\n   <g id=\"patch_11\">\n    <path clip-path=\"url(#pa3e9e3371f)\" d=\"M 257.730191 314.6 \nL 282.381018 314.6 \nL 282.381018 314.6 \nL 257.730191 314.6 \nz\n\" style=\"fill:#1f77b4;fill-opacity:0.75;stroke:#000000;stroke-linejoin:miter;\"/>\n   </g>\n   <g id=\"patch_12\">\n    <path clip-path=\"url(#pa3e9e3371f)\" d=\"M 282.381018 314.6 \nL 307.031844 314.6 \nL 307.031844 314.6 \nL 282.381018 314.6 \nz\n\" style=\"fill:#1f77b4;fill-opacity:0.75;stroke:#000000;stroke-linejoin:miter;\"/>\n   </g>\n   <g id=\"patch_13\">\n    <path clip-path=\"url(#pa3e9e3371f)\" d=\"M 307.031844 314.6 \nL 331.68267 314.6 \nL 331.68267 185.256261 \nL 307.031844 185.256261 \nz\n\" style=\"fill:#1f77b4;fill-opacity:0.75;stroke:#000000;stroke-linejoin:miter;\"/>\n   </g>\n   <g id=\"matplotlib.axis_1\">\n    <g id=\"xtick_1\">\n     <g id=\"line2d_1\">\n      <defs>\n       <path d=\"M 0 0 \nL 0 3.5 \n\" id=\"m15850648fc\" style=\"stroke:#000000;stroke-width:0.8;\"/>\n      </defs>\n      <g>\n       <use style=\"stroke:#000000;stroke-width:0.8;\" x=\"60.52358\" xlink:href=\"#m15850648fc\" y=\"314.6\"/>\n      </g>\n     </g>\n     <g id=\"text_1\">\n      <!-- 0.0 -->\n      <g transform=\"translate(52.572017 329.198437)scale(0.1 -0.1)\">\n       <defs>\n        <path d=\"M 31.78125 66.40625 \nQ 24.171875 66.40625 20.328125 58.90625 \nQ 16.5 51.421875 16.5 36.375 \nQ 16.5 21.390625 20.328125 13.890625 \nQ 24.171875 6.390625 31.78125 6.390625 \nQ 39.453125 6.390625 43.28125 13.890625 \nQ 47.125 21.390625 47.125 36.375 \nQ 47.125 51.421875 43.28125 58.90625 \nQ 39.453125 66.40625 31.78125 66.40625 \nz\nM 31.78125 74.21875 \nQ 44.046875 74.21875 50.515625 64.515625 \nQ 56.984375 54.828125 56.984375 36.375 \nQ 56.984375 17.96875 50.515625 8.265625 \nQ 44.046875 -1.421875 31.78125 -1.421875 \nQ 19.53125 -1.421875 13.0625 8.265625 \nQ 6.59375 17.96875 6.59375 36.375 \nQ 6.59375 54.828125 13.0625 64.515625 \nQ 19.53125 74.21875 31.78125 74.21875 \nz\n\" id=\"DejaVuSans-48\"/>\n        <path d=\"M 10.6875 12.40625 \nL 21 12.40625 \nL 21 0 \nL 10.6875 0 \nz\n\" id=\"DejaVuSans-46\"/>\n       </defs>\n       <use xlink:href=\"#DejaVuSans-48\"/>\n       <use x=\"63.623047\" xlink:href=\"#DejaVuSans-46\"/>\n       <use x=\"95.410156\" xlink:href=\"#DejaVuSans-48\"/>\n      </g>\n     </g>\n    </g>\n    <g id=\"xtick_2\">\n     <g id=\"line2d_2\">\n      <g>\n       <use style=\"stroke:#000000;stroke-width:0.8;\" x=\"114.755398\" xlink:href=\"#m15850648fc\" y=\"314.6\"/>\n      </g>\n     </g>\n     <g id=\"text_2\">\n      <!-- 0.2 -->\n      <g transform=\"translate(106.803835 329.198437)scale(0.1 -0.1)\">\n       <defs>\n        <path d=\"M 19.1875 8.296875 \nL 53.609375 8.296875 \nL 53.609375 0 \nL 7.328125 0 \nL 7.328125 8.296875 \nQ 12.9375 14.109375 22.625 23.890625 \nQ 32.328125 33.6875 34.8125 36.53125 \nQ 39.546875 41.84375 41.421875 45.53125 \nQ 43.3125 49.21875 43.3125 52.78125 \nQ 43.3125 58.59375 39.234375 62.25 \nQ 35.15625 65.921875 28.609375 65.921875 \nQ 23.96875 65.921875 18.8125 64.3125 \nQ 13.671875 62.703125 7.8125 59.421875 \nL 7.8125 69.390625 \nQ 13.765625 71.78125 18.9375 73 \nQ 24.125 74.21875 28.421875 74.21875 \nQ 39.75 74.21875 46.484375 68.546875 \nQ 53.21875 62.890625 53.21875 53.421875 \nQ 53.21875 48.921875 51.53125 44.890625 \nQ 49.859375 40.875 45.40625 35.40625 \nQ 44.1875 33.984375 37.640625 27.21875 \nQ 31.109375 20.453125 19.1875 8.296875 \nz\n\" id=\"DejaVuSans-50\"/>\n       </defs>\n       <use xlink:href=\"#DejaVuSans-48\"/>\n       <use x=\"63.623047\" xlink:href=\"#DejaVuSans-46\"/>\n       <use x=\"95.410156\" xlink:href=\"#DejaVuSans-50\"/>\n      </g>\n     </g>\n    </g>\n    <g id=\"xtick_3\">\n     <g id=\"line2d_3\">\n      <g>\n       <use style=\"stroke:#000000;stroke-width:0.8;\" x=\"168.987216\" xlink:href=\"#m15850648fc\" y=\"314.6\"/>\n      </g>\n     </g>\n     <g id=\"text_3\">\n      <!-- 0.4 -->\n      <g transform=\"translate(161.035653 329.198437)scale(0.1 -0.1)\">\n       <defs>\n        <path d=\"M 37.796875 64.3125 \nL 12.890625 25.390625 \nL 37.796875 25.390625 \nz\nM 35.203125 72.90625 \nL 47.609375 72.90625 \nL 47.609375 25.390625 \nL 58.015625 25.390625 \nL 58.015625 17.1875 \nL 47.609375 17.1875 \nL 47.609375 0 \nL 37.796875 0 \nL 37.796875 17.1875 \nL 4.890625 17.1875 \nL 4.890625 26.703125 \nz\n\" id=\"DejaVuSans-52\"/>\n       </defs>\n       <use xlink:href=\"#DejaVuSans-48\"/>\n       <use x=\"63.623047\" xlink:href=\"#DejaVuSans-46\"/>\n       <use x=\"95.410156\" xlink:href=\"#DejaVuSans-52\"/>\n      </g>\n     </g>\n    </g>\n    <g id=\"xtick_4\">\n     <g id=\"line2d_4\">\n      <g>\n       <use style=\"stroke:#000000;stroke-width:0.8;\" x=\"223.219034\" xlink:href=\"#m15850648fc\" y=\"314.6\"/>\n      </g>\n     </g>\n     <g id=\"text_4\">\n      <!-- 0.6 -->\n      <g transform=\"translate(215.267472 329.198437)scale(0.1 -0.1)\">\n       <defs>\n        <path d=\"M 33.015625 40.375 \nQ 26.375 40.375 22.484375 35.828125 \nQ 18.609375 31.296875 18.609375 23.390625 \nQ 18.609375 15.53125 22.484375 10.953125 \nQ 26.375 6.390625 33.015625 6.390625 \nQ 39.65625 6.390625 43.53125 10.953125 \nQ 47.40625 15.53125 47.40625 23.390625 \nQ 47.40625 31.296875 43.53125 35.828125 \nQ 39.65625 40.375 33.015625 40.375 \nz\nM 52.59375 71.296875 \nL 52.59375 62.3125 \nQ 48.875 64.0625 45.09375 64.984375 \nQ 41.3125 65.921875 37.59375 65.921875 \nQ 27.828125 65.921875 22.671875 59.328125 \nQ 17.53125 52.734375 16.796875 39.40625 \nQ 19.671875 43.65625 24.015625 45.921875 \nQ 28.375 48.1875 33.59375 48.1875 \nQ 44.578125 48.1875 50.953125 41.515625 \nQ 57.328125 34.859375 57.328125 23.390625 \nQ 57.328125 12.15625 50.6875 5.359375 \nQ 44.046875 -1.421875 33.015625 -1.421875 \nQ 20.359375 -1.421875 13.671875 8.265625 \nQ 6.984375 17.96875 6.984375 36.375 \nQ 6.984375 53.65625 15.1875 63.9375 \nQ 23.390625 74.21875 37.203125 74.21875 \nQ 40.921875 74.21875 44.703125 73.484375 \nQ 48.484375 72.75 52.59375 71.296875 \nz\n\" id=\"DejaVuSans-54\"/>\n       </defs>\n       <use xlink:href=\"#DejaVuSans-48\"/>\n       <use x=\"63.623047\" xlink:href=\"#DejaVuSans-46\"/>\n       <use x=\"95.410156\" xlink:href=\"#DejaVuSans-54\"/>\n      </g>\n     </g>\n    </g>\n    <g id=\"xtick_5\">\n     <g id=\"line2d_5\">\n      <g>\n       <use style=\"stroke:#000000;stroke-width:0.8;\" x=\"277.450852\" xlink:href=\"#m15850648fc\" y=\"314.6\"/>\n      </g>\n     </g>\n     <g id=\"text_5\">\n      <!-- 0.8 -->\n      <g transform=\"translate(269.49929 329.198437)scale(0.1 -0.1)\">\n       <defs>\n        <path d=\"M 31.78125 34.625 \nQ 24.75 34.625 20.71875 30.859375 \nQ 16.703125 27.09375 16.703125 20.515625 \nQ 16.703125 13.921875 20.71875 10.15625 \nQ 24.75 6.390625 31.78125 6.390625 \nQ 38.8125 6.390625 42.859375 10.171875 \nQ 46.921875 13.96875 46.921875 20.515625 \nQ 46.921875 27.09375 42.890625 30.859375 \nQ 38.875 34.625 31.78125 34.625 \nz\nM 21.921875 38.8125 \nQ 15.578125 40.375 12.03125 44.71875 \nQ 8.5 49.078125 8.5 55.328125 \nQ 8.5 64.0625 14.71875 69.140625 \nQ 20.953125 74.21875 31.78125 74.21875 \nQ 42.671875 74.21875 48.875 69.140625 \nQ 55.078125 64.0625 55.078125 55.328125 \nQ 55.078125 49.078125 51.53125 44.71875 \nQ 48 40.375 41.703125 38.8125 \nQ 48.828125 37.15625 52.796875 32.3125 \nQ 56.78125 27.484375 56.78125 20.515625 \nQ 56.78125 9.90625 50.3125 4.234375 \nQ 43.84375 -1.421875 31.78125 -1.421875 \nQ 19.734375 -1.421875 13.25 4.234375 \nQ 6.78125 9.90625 6.78125 20.515625 \nQ 6.78125 27.484375 10.78125 32.3125 \nQ 14.796875 37.15625 21.921875 38.8125 \nz\nM 18.3125 54.390625 \nQ 18.3125 48.734375 21.84375 45.5625 \nQ 25.390625 42.390625 31.78125 42.390625 \nQ 38.140625 42.390625 41.71875 45.5625 \nQ 45.3125 48.734375 45.3125 54.390625 \nQ 45.3125 60.0625 41.71875 63.234375 \nQ 38.140625 66.40625 31.78125 66.40625 \nQ 25.390625 66.40625 21.84375 63.234375 \nQ 18.3125 60.0625 18.3125 54.390625 \nz\n\" id=\"DejaVuSans-56\"/>\n       </defs>\n       <use xlink:href=\"#DejaVuSans-48\"/>\n       <use x=\"63.623047\" xlink:href=\"#DejaVuSans-46\"/>\n       <use x=\"95.410156\" xlink:href=\"#DejaVuSans-56\"/>\n      </g>\n     </g>\n    </g>\n    <g id=\"xtick_6\">\n     <g id=\"line2d_6\">\n      <g>\n       <use style=\"stroke:#000000;stroke-width:0.8;\" x=\"331.68267\" xlink:href=\"#m15850648fc\" y=\"314.6\"/>\n      </g>\n     </g>\n     <g id=\"text_6\">\n      <!-- 1.0 -->\n      <g transform=\"translate(323.731108 329.198437)scale(0.1 -0.1)\">\n       <defs>\n        <path d=\"M 12.40625 8.296875 \nL 28.515625 8.296875 \nL 28.515625 63.921875 \nL 10.984375 60.40625 \nL 10.984375 69.390625 \nL 28.421875 72.90625 \nL 38.28125 72.90625 \nL 38.28125 8.296875 \nL 54.390625 8.296875 \nL 54.390625 0 \nL 12.40625 0 \nz\n\" id=\"DejaVuSans-49\"/>\n       </defs>\n       <use xlink:href=\"#DejaVuSans-49\"/>\n       <use x=\"63.623047\" xlink:href=\"#DejaVuSans-46\"/>\n       <use x=\"95.410156\" xlink:href=\"#DejaVuSans-48\"/>\n      </g>\n     </g>\n    </g>\n    <g id=\"text_7\">\n     <!-- Attrition -->\n     <g transform=\"translate(175.828125 342.876562)scale(0.1 -0.1)\">\n      <defs>\n       <path d=\"M 34.1875 63.1875 \nL 20.796875 26.90625 \nL 47.609375 26.90625 \nz\nM 28.609375 72.90625 \nL 39.796875 72.90625 \nL 67.578125 0 \nL 57.328125 0 \nL 50.6875 18.703125 \nL 17.828125 18.703125 \nL 11.1875 0 \nL 0.78125 0 \nz\n\" id=\"DejaVuSans-65\"/>\n       <path d=\"M 18.3125 70.21875 \nL 18.3125 54.6875 \nL 36.8125 54.6875 \nL 36.8125 47.703125 \nL 18.3125 47.703125 \nL 18.3125 18.015625 \nQ 18.3125 11.328125 20.140625 9.421875 \nQ 21.96875 7.515625 27.59375 7.515625 \nL 36.8125 7.515625 \nL 36.8125 0 \nL 27.59375 0 \nQ 17.1875 0 13.234375 3.875 \nQ 9.28125 7.765625 9.28125 18.015625 \nL 9.28125 47.703125 \nL 2.6875 47.703125 \nL 2.6875 54.6875 \nL 9.28125 54.6875 \nL 9.28125 70.21875 \nz\n\" id=\"DejaVuSans-116\"/>\n       <path d=\"M 41.109375 46.296875 \nQ 39.59375 47.171875 37.8125 47.578125 \nQ 36.03125 48 33.890625 48 \nQ 26.265625 48 22.1875 43.046875 \nQ 18.109375 38.09375 18.109375 28.8125 \nL 18.109375 0 \nL 9.078125 0 \nL 9.078125 54.6875 \nL 18.109375 54.6875 \nL 18.109375 46.1875 \nQ 20.953125 51.171875 25.484375 53.578125 \nQ 30.03125 56 36.53125 56 \nQ 37.453125 56 38.578125 55.875 \nQ 39.703125 55.765625 41.0625 55.515625 \nz\n\" id=\"DejaVuSans-114\"/>\n       <path d=\"M 9.421875 54.6875 \nL 18.40625 54.6875 \nL 18.40625 0 \nL 9.421875 0 \nz\nM 9.421875 75.984375 \nL 18.40625 75.984375 \nL 18.40625 64.59375 \nL 9.421875 64.59375 \nz\n\" id=\"DejaVuSans-105\"/>\n       <path d=\"M 30.609375 48.390625 \nQ 23.390625 48.390625 19.1875 42.75 \nQ 14.984375 37.109375 14.984375 27.296875 \nQ 14.984375 17.484375 19.15625 11.84375 \nQ 23.34375 6.203125 30.609375 6.203125 \nQ 37.796875 6.203125 41.984375 11.859375 \nQ 46.1875 17.53125 46.1875 27.296875 \nQ 46.1875 37.015625 41.984375 42.703125 \nQ 37.796875 48.390625 30.609375 48.390625 \nz\nM 30.609375 56 \nQ 42.328125 56 49.015625 48.375 \nQ 55.71875 40.765625 55.71875 27.296875 \nQ 55.71875 13.875 49.015625 6.21875 \nQ 42.328125 -1.421875 30.609375 -1.421875 \nQ 18.84375 -1.421875 12.171875 6.21875 \nQ 5.515625 13.875 5.515625 27.296875 \nQ 5.515625 40.765625 12.171875 48.375 \nQ 18.84375 56 30.609375 56 \nz\n\" id=\"DejaVuSans-111\"/>\n       <path d=\"M 54.890625 33.015625 \nL 54.890625 0 \nL 45.90625 0 \nL 45.90625 32.71875 \nQ 45.90625 40.484375 42.875 44.328125 \nQ 39.84375 48.1875 33.796875 48.1875 \nQ 26.515625 48.1875 22.3125 43.546875 \nQ 18.109375 38.921875 18.109375 30.90625 \nL 18.109375 0 \nL 9.078125 0 \nL 9.078125 54.6875 \nL 18.109375 54.6875 \nL 18.109375 46.1875 \nQ 21.34375 51.125 25.703125 53.5625 \nQ 30.078125 56 35.796875 56 \nQ 45.21875 56 50.046875 50.171875 \nQ 54.890625 44.34375 54.890625 33.015625 \nz\n\" id=\"DejaVuSans-110\"/>\n      </defs>\n      <use xlink:href=\"#DejaVuSans-65\"/>\n      <use x=\"66.658203\" xlink:href=\"#DejaVuSans-116\"/>\n      <use x=\"105.867188\" xlink:href=\"#DejaVuSans-116\"/>\n      <use x=\"145.076172\" xlink:href=\"#DejaVuSans-114\"/>\n      <use x=\"186.189453\" xlink:href=\"#DejaVuSans-105\"/>\n      <use x=\"213.972656\" xlink:href=\"#DejaVuSans-116\"/>\n      <use x=\"253.181641\" xlink:href=\"#DejaVuSans-105\"/>\n      <use x=\"280.964844\" xlink:href=\"#DejaVuSans-111\"/>\n      <use x=\"342.146484\" xlink:href=\"#DejaVuSans-110\"/>\n     </g>\n    </g>\n   </g>\n   <g id=\"matplotlib.axis_2\">\n    <g id=\"ytick_1\">\n     <g id=\"line2d_7\">\n      <defs>\n       <path d=\"M 0 0 \nL -3.5 0 \n\" id=\"m2b5dd350ac\" style=\"stroke:#000000;stroke-width:0.8;\"/>\n      </defs>\n      <g>\n       <use style=\"stroke:#000000;stroke-width:0.8;\" x=\"46.965625\" xlink:href=\"#m2b5dd350ac\" y=\"314.6\"/>\n      </g>\n     </g>\n     <g id=\"text_8\">\n      <!-- 0 -->\n      <g transform=\"translate(33.603125 318.399219)scale(0.1 -0.1)\">\n       <use xlink:href=\"#DejaVuSans-48\"/>\n      </g>\n     </g>\n    </g>\n    <g id=\"ytick_2\">\n     <g id=\"line2d_8\">\n      <g>\n       <use style=\"stroke:#000000;stroke-width:0.8;\" x=\"46.965625\" xlink:href=\"#m2b5dd350ac\" y=\"279.830178\"/>\n      </g>\n     </g>\n     <g id=\"text_9\">\n      <!-- 50 -->\n      <g transform=\"translate(27.240625 283.629396)scale(0.1 -0.1)\">\n       <defs>\n        <path d=\"M 10.796875 72.90625 \nL 49.515625 72.90625 \nL 49.515625 64.59375 \nL 19.828125 64.59375 \nL 19.828125 46.734375 \nQ 21.96875 47.46875 24.109375 47.828125 \nQ 26.265625 48.1875 28.421875 48.1875 \nQ 40.625 48.1875 47.75 41.5 \nQ 54.890625 34.8125 54.890625 23.390625 \nQ 54.890625 11.625 47.5625 5.09375 \nQ 40.234375 -1.421875 26.90625 -1.421875 \nQ 22.3125 -1.421875 17.546875 -0.640625 \nQ 12.796875 0.140625 7.71875 1.703125 \nL 7.71875 11.625 \nQ 12.109375 9.234375 16.796875 8.0625 \nQ 21.484375 6.890625 26.703125 6.890625 \nQ 35.15625 6.890625 40.078125 11.328125 \nQ 45.015625 15.765625 45.015625 23.390625 \nQ 45.015625 31 40.078125 35.4375 \nQ 35.15625 39.890625 26.703125 39.890625 \nQ 22.75 39.890625 18.8125 39.015625 \nQ 14.890625 38.140625 10.796875 36.28125 \nz\n\" id=\"DejaVuSans-53\"/>\n       </defs>\n       <use xlink:href=\"#DejaVuSans-53\"/>\n       <use x=\"63.623047\" xlink:href=\"#DejaVuSans-48\"/>\n      </g>\n     </g>\n    </g>\n    <g id=\"ytick_3\">\n     <g id=\"line2d_9\">\n      <g>\n       <use style=\"stroke:#000000;stroke-width:0.8;\" x=\"46.965625\" xlink:href=\"#m2b5dd350ac\" y=\"245.060355\"/>\n      </g>\n     </g>\n     <g id=\"text_10\">\n      <!-- 100 -->\n      <g transform=\"translate(20.878125 248.859574)scale(0.1 -0.1)\">\n       <use xlink:href=\"#DejaVuSans-49\"/>\n       <use x=\"63.623047\" xlink:href=\"#DejaVuSans-48\"/>\n       <use x=\"127.246094\" xlink:href=\"#DejaVuSans-48\"/>\n      </g>\n     </g>\n    </g>\n    <g id=\"ytick_4\">\n     <g id=\"line2d_10\">\n      <g>\n       <use style=\"stroke:#000000;stroke-width:0.8;\" x=\"46.965625\" xlink:href=\"#m2b5dd350ac\" y=\"210.290533\"/>\n      </g>\n     </g>\n     <g id=\"text_11\">\n      <!-- 150 -->\n      <g transform=\"translate(20.878125 214.089751)scale(0.1 -0.1)\">\n       <use xlink:href=\"#DejaVuSans-49\"/>\n       <use x=\"63.623047\" xlink:href=\"#DejaVuSans-53\"/>\n       <use x=\"127.246094\" xlink:href=\"#DejaVuSans-48\"/>\n      </g>\n     </g>\n    </g>\n    <g id=\"ytick_5\">\n     <g id=\"line2d_11\">\n      <g>\n       <use style=\"stroke:#000000;stroke-width:0.8;\" x=\"46.965625\" xlink:href=\"#m2b5dd350ac\" y=\"175.52071\"/>\n      </g>\n     </g>\n     <g id=\"text_12\">\n      <!-- 200 -->\n      <g transform=\"translate(20.878125 179.319929)scale(0.1 -0.1)\">\n       <use xlink:href=\"#DejaVuSans-50\"/>\n       <use x=\"63.623047\" xlink:href=\"#DejaVuSans-48\"/>\n       <use x=\"127.246094\" xlink:href=\"#DejaVuSans-48\"/>\n      </g>\n     </g>\n    </g>\n    <g id=\"ytick_6\">\n     <g id=\"line2d_12\">\n      <g>\n       <use style=\"stroke:#000000;stroke-width:0.8;\" x=\"46.965625\" xlink:href=\"#m2b5dd350ac\" y=\"140.750888\"/>\n      </g>\n     </g>\n     <g id=\"text_13\">\n      <!-- 250 -->\n      <g transform=\"translate(20.878125 144.550107)scale(0.1 -0.1)\">\n       <use xlink:href=\"#DejaVuSans-50\"/>\n       <use x=\"63.623047\" xlink:href=\"#DejaVuSans-53\"/>\n       <use x=\"127.246094\" xlink:href=\"#DejaVuSans-48\"/>\n      </g>\n     </g>\n    </g>\n    <g id=\"ytick_7\">\n     <g id=\"line2d_13\">\n      <g>\n       <use style=\"stroke:#000000;stroke-width:0.8;\" x=\"46.965625\" xlink:href=\"#m2b5dd350ac\" y=\"105.981065\"/>\n      </g>\n     </g>\n     <g id=\"text_14\">\n      <!-- 300 -->\n      <g transform=\"translate(20.878125 109.780284)scale(0.1 -0.1)\">\n       <defs>\n        <path d=\"M 40.578125 39.3125 \nQ 47.65625 37.796875 51.625 33 \nQ 55.609375 28.21875 55.609375 21.1875 \nQ 55.609375 10.40625 48.1875 4.484375 \nQ 40.765625 -1.421875 27.09375 -1.421875 \nQ 22.515625 -1.421875 17.65625 -0.515625 \nQ 12.796875 0.390625 7.625 2.203125 \nL 7.625 11.71875 \nQ 11.71875 9.328125 16.59375 8.109375 \nQ 21.484375 6.890625 26.8125 6.890625 \nQ 36.078125 6.890625 40.9375 10.546875 \nQ 45.796875 14.203125 45.796875 21.1875 \nQ 45.796875 27.640625 41.28125 31.265625 \nQ 36.765625 34.90625 28.71875 34.90625 \nL 20.21875 34.90625 \nL 20.21875 43.015625 \nL 29.109375 43.015625 \nQ 36.375 43.015625 40.234375 45.921875 \nQ 44.09375 48.828125 44.09375 54.296875 \nQ 44.09375 59.90625 40.109375 62.90625 \nQ 36.140625 65.921875 28.71875 65.921875 \nQ 24.65625 65.921875 20.015625 65.03125 \nQ 15.375 64.15625 9.8125 62.3125 \nL 9.8125 71.09375 \nQ 15.4375 72.65625 20.34375 73.4375 \nQ 25.25 74.21875 29.59375 74.21875 \nQ 40.828125 74.21875 47.359375 69.109375 \nQ 53.90625 64.015625 53.90625 55.328125 \nQ 53.90625 49.265625 50.4375 45.09375 \nQ 46.96875 40.921875 40.578125 39.3125 \nz\n\" id=\"DejaVuSans-51\"/>\n       </defs>\n       <use xlink:href=\"#DejaVuSans-51\"/>\n       <use x=\"63.623047\" xlink:href=\"#DejaVuSans-48\"/>\n       <use x=\"127.246094\" xlink:href=\"#DejaVuSans-48\"/>\n      </g>\n     </g>\n    </g>\n    <g id=\"ytick_8\">\n     <g id=\"line2d_14\">\n      <g>\n       <use style=\"stroke:#000000;stroke-width:0.8;\" x=\"46.965625\" xlink:href=\"#m2b5dd350ac\" y=\"71.211243\"/>\n      </g>\n     </g>\n     <g id=\"text_15\">\n      <!-- 350 -->\n      <g transform=\"translate(20.878125 75.010462)scale(0.1 -0.1)\">\n       <use xlink:href=\"#DejaVuSans-51\"/>\n       <use x=\"63.623047\" xlink:href=\"#DejaVuSans-53\"/>\n       <use x=\"127.246094\" xlink:href=\"#DejaVuSans-48\"/>\n      </g>\n     </g>\n    </g>\n    <g id=\"ytick_9\">\n     <g id=\"line2d_15\">\n      <g>\n       <use style=\"stroke:#000000;stroke-width:0.8;\" x=\"46.965625\" xlink:href=\"#m2b5dd350ac\" y=\"36.441421\"/>\n      </g>\n     </g>\n     <g id=\"text_16\">\n      <!-- 400 -->\n      <g transform=\"translate(20.878125 40.240639)scale(0.1 -0.1)\">\n       <use xlink:href=\"#DejaVuSans-52\"/>\n       <use x=\"63.623047\" xlink:href=\"#DejaVuSans-48\"/>\n       <use x=\"127.246094\" xlink:href=\"#DejaVuSans-48\"/>\n      </g>\n     </g>\n    </g>\n    <g id=\"text_17\">\n     <!-- Count -->\n     <g transform=\"translate(14.798438 175.748437)rotate(-90)scale(0.1 -0.1)\">\n      <defs>\n       <path d=\"M 64.40625 67.28125 \nL 64.40625 56.890625 \nQ 59.421875 61.53125 53.78125 63.8125 \nQ 48.140625 66.109375 41.796875 66.109375 \nQ 29.296875 66.109375 22.65625 58.46875 \nQ 16.015625 50.828125 16.015625 36.375 \nQ 16.015625 21.96875 22.65625 14.328125 \nQ 29.296875 6.6875 41.796875 6.6875 \nQ 48.140625 6.6875 53.78125 8.984375 \nQ 59.421875 11.28125 64.40625 15.921875 \nL 64.40625 5.609375 \nQ 59.234375 2.09375 53.4375 0.328125 \nQ 47.65625 -1.421875 41.21875 -1.421875 \nQ 24.65625 -1.421875 15.125 8.703125 \nQ 5.609375 18.84375 5.609375 36.375 \nQ 5.609375 53.953125 15.125 64.078125 \nQ 24.65625 74.21875 41.21875 74.21875 \nQ 47.75 74.21875 53.53125 72.484375 \nQ 59.328125 70.75 64.40625 67.28125 \nz\n\" id=\"DejaVuSans-67\"/>\n       <path d=\"M 8.5 21.578125 \nL 8.5 54.6875 \nL 17.484375 54.6875 \nL 17.484375 21.921875 \nQ 17.484375 14.15625 20.5 10.265625 \nQ 23.53125 6.390625 29.59375 6.390625 \nQ 36.859375 6.390625 41.078125 11.03125 \nQ 45.3125 15.671875 45.3125 23.6875 \nL 45.3125 54.6875 \nL 54.296875 54.6875 \nL 54.296875 0 \nL 45.3125 0 \nL 45.3125 8.40625 \nQ 42.046875 3.421875 37.71875 1 \nQ 33.40625 -1.421875 27.6875 -1.421875 \nQ 18.265625 -1.421875 13.375 4.4375 \nQ 8.5 10.296875 8.5 21.578125 \nz\nM 31.109375 56 \nz\n\" id=\"DejaVuSans-117\"/>\n      </defs>\n      <use xlink:href=\"#DejaVuSans-67\"/>\n      <use x=\"69.824219\" xlink:href=\"#DejaVuSans-111\"/>\n      <use x=\"131.005859\" xlink:href=\"#DejaVuSans-117\"/>\n      <use x=\"194.384766\" xlink:href=\"#DejaVuSans-110\"/>\n      <use x=\"257.763672\" xlink:href=\"#DejaVuSans-116\"/>\n     </g>\n    </g>\n   </g>\n   <g id=\"patch_14\">\n    <path d=\"M 46.965625 314.6 \nL 46.965625 7.2 \n\" style=\"fill:none;stroke:#000000;stroke-linecap:square;stroke-linejoin:miter;stroke-width:0.8;\"/>\n   </g>\n   <g id=\"patch_15\">\n    <path d=\"M 46.965625 314.6 \nL 345.240625 314.6 \n\" style=\"fill:none;stroke:#000000;stroke-linecap:square;stroke-linejoin:miter;stroke-width:0.8;\"/>\n   </g>\n  </g>\n </g>\n <defs>\n  <clipPath id=\"pa3e9e3371f\">\n   <rect height=\"307.4\" width=\"298.275\" x=\"46.965625\" y=\"7.2\"/>\n  </clipPath>\n </defs>\n</svg>\n",
      "image/png": "[encoded data removed]"
     },
     "metadata": {
      "needs_background": "light"
     }
    }
   ],
   "source": [
    "sns.displot(df['Attrition'])"
   ]
  },
  {
   "cell_type": "code",
   "execution_count": 27,
   "metadata": {},
   "outputs": [
    {
     "output_type": "execute_result",
     "data": {
      "text/plain": [
       "ShapiroResult(statistic=0.5796045064926147, pvalue=8.905712801610138e-36)"
      ]
     },
     "metadata": {},
     "execution_count": 27
    }
   ],
   "source": [
    "stats.shapiro(df['Attrition'])"
   ]
  },
  {
   "cell_type": "code",
   "execution_count": 33,
   "metadata": {},
   "outputs": [
    {
     "output_type": "execute_result",
     "data": {
      "text/plain": [
       "      Involuntary  Voluntary\n",
       "EEID                        \n",
       "343             1          0\n",
       "468             1          0\n",
       "458             1          0\n",
       "379             1          0\n",
       "492             1          0\n",
       "...           ...        ...\n",
       "431             0          1\n",
       "760             0          0\n",
       "773             0          0\n",
       "725             0          0\n",
       "721             0          0\n",
       "\n",
       "[607 rows x 2 columns]"
      ],
      "text/html": "<div>\n<style scoped>\n    .dataframe tbody tr th:only-of-type {\n        vertical-align: middle;\n    }\n\n    .dataframe tbody tr th {\n        vertical-align: top;\n    }\n\n    .dataframe thead th {\n        text-align: right;\n    }\n</style>\n<table border=\"1\" class=\"dataframe\">\n  <thead>\n    <tr style=\"text-align: right;\">\n      <th></th>\n      <th>Involuntary</th>\n      <th>Voluntary</th>\n    </tr>\n    <tr>\n      <th>EEID</th>\n      <th></th>\n      <th></th>\n    </tr>\n  </thead>\n  <tbody>\n    <tr>\n      <th>343</th>\n      <td>1</td>\n      <td>0</td>\n    </tr>\n    <tr>\n      <th>468</th>\n      <td>1</td>\n      <td>0</td>\n    </tr>\n    <tr>\n      <th>458</th>\n      <td>1</td>\n      <td>0</td>\n    </tr>\n    <tr>\n      <th>379</th>\n      <td>1</td>\n      <td>0</td>\n    </tr>\n    <tr>\n      <th>492</th>\n      <td>1</td>\n      <td>0</td>\n    </tr>\n    <tr>\n      <th>...</th>\n      <td>...</td>\n      <td>...</td>\n    </tr>\n    <tr>\n      <th>431</th>\n      <td>0</td>\n      <td>1</td>\n    </tr>\n    <tr>\n      <th>760</th>\n      <td>0</td>\n      <td>0</td>\n    </tr>\n    <tr>\n      <th>773</th>\n      <td>0</td>\n      <td>0</td>\n    </tr>\n    <tr>\n      <th>725</th>\n      <td>0</td>\n      <td>0</td>\n    </tr>\n    <tr>\n      <th>721</th>\n      <td>0</td>\n      <td>0</td>\n    </tr>\n  </tbody>\n</table>\n<p>607 rows × 2 columns</p>\n</div>"
     },
     "metadata": {},
     "execution_count": 33
    }
   ],
   "source": [
    "pd.get_dummies(df['Termination Type'])"
   ]
  },
  {
   "cell_type": "code",
   "execution_count": 31,
   "metadata": {},
   "outputs": [
    {
     "output_type": "execute_result",
     "data": {
      "text/plain": [
       "        Status  Age  Gender               Education Level   Hire Date  \\\n",
       "EEID                                                                    \n",
       "343   Inactive   28  Female  Undergraduate degree (Grado)  2019-08-19   \n",
       "468   Inactive   29    Male                       Unknown  2016-07-05   \n",
       "458   Inactive   27    Male                       Unknown  2016-09-05   \n",
       "379   Inactive   25    Male  Undergraduate degree (Grado)  2017-10-23   \n",
       "492   Inactive   58  Female                       Unknown  2017-09-13   \n",
       "\n",
       "     Termination Date Termination Type Termination Reason  \\\n",
       "EEID                                                        \n",
       "343        2019-09-30      Involuntary    End of contract   \n",
       "468        2017-03-30      Involuntary    End of contract   \n",
       "458        2017-01-26      Involuntary    End of contract   \n",
       "379        2018-08-28      Involuntary    End of contract   \n",
       "492        2017-09-29      Involuntary    End of contract   \n",
       "\n",
       "     Job Information: Date     Division  ... Stock Options    Level  \\\n",
       "EEID                                     ...                          \n",
       "343             2019-08-19       People  ...             N  Unknown   \n",
       "468             2016-07-05  Engineering  ...             N  Unknown   \n",
       "458             2016-09-05  Engineering  ...             N  Unknown   \n",
       "379             2017-10-23  Engineering  ...             N  Unknown   \n",
       "492             2017-09-13       People  ...             N  Unknown   \n",
       "\n",
       "      Is Supervisor  Length of service Length of service: Years  \\\n",
       "EEID                                                              \n",
       "343              No   1 month, 11 days                        0   \n",
       "468              No  8 months, 25 days                        0   \n",
       "458              No  4 months, 21 days                        0   \n",
       "379              No  10 months, 5 days                        0   \n",
       "492              No            16 days                        0   \n",
       "\n",
       "     Length of service: Months Inactive Attrition  Involuntary  Voluntary  \n",
       "EEID                                                                       \n",
       "343                          1        1         0  Involuntary  Voluntary  \n",
       "468                          8        1         0  Involuntary  Voluntary  \n",
       "458                          4        1         0  Involuntary  Voluntary  \n",
       "379                         10        1         0  Involuntary  Voluntary  \n",
       "492                          0        1         0  Involuntary  Voluntary  \n",
       "\n",
       "[5 rows x 25 columns]"
      ],
      "text/html": "<div>\n<style scoped>\n    .dataframe tbody tr th:only-of-type {\n        vertical-align: middle;\n    }\n\n    .dataframe tbody tr th {\n        vertical-align: top;\n    }\n\n    .dataframe thead th {\n        text-align: right;\n    }\n</style>\n<table border=\"1\" class=\"dataframe\">\n  <thead>\n    <tr style=\"text-align: right;\">\n      <th></th>\n      <th>Status</th>\n      <th>Age</th>\n      <th>Gender</th>\n      <th>Education Level</th>\n      <th>Hire Date</th>\n      <th>Termination Date</th>\n      <th>Termination Type</th>\n      <th>Termination Reason</th>\n      <th>Job Information: Date</th>\n      <th>Division</th>\n      <th>...</th>\n      <th>Stock Options</th>\n      <th>Level</th>\n      <th>Is Supervisor</th>\n      <th>Length of service</th>\n      <th>Length of service: Years</th>\n      <th>Length of service: Months</th>\n      <th>Inactive</th>\n      <th>Attrition</th>\n      <th>Involuntary</th>\n      <th>Voluntary</th>\n    </tr>\n    <tr>\n      <th>EEID</th>\n      <th></th>\n      <th></th>\n      <th></th>\n      <th></th>\n      <th></th>\n      <th></th>\n      <th></th>\n      <th></th>\n      <th></th>\n      <th></th>\n      <th></th>\n      <th></th>\n      <th></th>\n      <th></th>\n      <th></th>\n      <th></th>\n      <th></th>\n      <th></th>\n      <th></th>\n      <th></th>\n      <th></th>\n    </tr>\n  </thead>\n  <tbody>\n    <tr>\n      <th>343</th>\n      <td>Inactive</td>\n      <td>28</td>\n      <td>Female</td>\n      <td>Undergraduate degree (Grado)</td>\n      <td>2019-08-19</td>\n      <td>2019-09-30</td>\n      <td>Involuntary</td>\n      <td>End of contract</td>\n      <td>2019-08-19</td>\n      <td>People</td>\n      <td>...</td>\n      <td>N</td>\n      <td>Unknown</td>\n      <td>No</td>\n      <td>1 month, 11 days</td>\n      <td>0</td>\n      <td>1</td>\n      <td>1</td>\n      <td>0</td>\n      <td>Involuntary</td>\n      <td>Voluntary</td>\n    </tr>\n    <tr>\n      <th>468</th>\n      <td>Inactive</td>\n      <td>29</td>\n      <td>Male</td>\n      <td>Unknown</td>\n      <td>2016-07-05</td>\n      <td>2017-03-30</td>\n      <td>Involuntary</td>\n      <td>End of contract</td>\n      <td>2016-07-05</td>\n      <td>Engineering</td>\n      <td>...</td>\n      <td>N</td>\n      <td>Unknown</td>\n      <td>No</td>\n      <td>8 months, 25 days</td>\n      <td>0</td>\n      <td>8</td>\n      <td>1</td>\n      <td>0</td>\n      <td>Involuntary</td>\n      <td>Voluntary</td>\n    </tr>\n    <tr>\n      <th>458</th>\n      <td>Inactive</td>\n      <td>27</td>\n      <td>Male</td>\n      <td>Unknown</td>\n      <td>2016-09-05</td>\n      <td>2017-01-26</td>\n      <td>Involuntary</td>\n      <td>End of contract</td>\n      <td>2016-09-05</td>\n      <td>Engineering</td>\n      <td>...</td>\n      <td>N</td>\n      <td>Unknown</td>\n      <td>No</td>\n      <td>4 months, 21 days</td>\n      <td>0</td>\n      <td>4</td>\n      <td>1</td>\n      <td>0</td>\n      <td>Involuntary</td>\n      <td>Voluntary</td>\n    </tr>\n    <tr>\n      <th>379</th>\n      <td>Inactive</td>\n      <td>25</td>\n      <td>Male</td>\n      <td>Undergraduate degree (Grado)</td>\n      <td>2017-10-23</td>\n      <td>2018-08-28</td>\n      <td>Involuntary</td>\n      <td>End of contract</td>\n      <td>2017-10-23</td>\n      <td>Engineering</td>\n      <td>...</td>\n      <td>N</td>\n      <td>Unknown</td>\n      <td>No</td>\n      <td>10 months, 5 days</td>\n      <td>0</td>\n      <td>10</td>\n      <td>1</td>\n      <td>0</td>\n      <td>Involuntary</td>\n      <td>Voluntary</td>\n    </tr>\n    <tr>\n      <th>492</th>\n      <td>Inactive</td>\n      <td>58</td>\n      <td>Female</td>\n      <td>Unknown</td>\n      <td>2017-09-13</td>\n      <td>2017-09-29</td>\n      <td>Involuntary</td>\n      <td>End of contract</td>\n      <td>2017-09-13</td>\n      <td>People</td>\n      <td>...</td>\n      <td>N</td>\n      <td>Unknown</td>\n      <td>No</td>\n      <td>16 days</td>\n      <td>0</td>\n      <td>0</td>\n      <td>1</td>\n      <td>0</td>\n      <td>Involuntary</td>\n      <td>Voluntary</td>\n    </tr>\n  </tbody>\n</table>\n<p>5 rows × 25 columns</p>\n</div>"
     },
     "metadata": {},
     "execution_count": 31
    }
   ],
   "source": [
    "df.head()"
   ]
  },
  {
   "cell_type": "code",
   "execution_count": 43,
   "metadata": {},
   "outputs": [
    {
     "output_type": "execute_result",
     "data": {
      "text/plain": [
       "                      Status  Age  Gender  Education Level  Hire Date  \\\n",
       "Division                                                                \n",
       "Business Development      17   17      17               17         17   \n",
       "Customer Success          77   77      77               77         77   \n",
       "Data & Analytics          57   57      57               57         57   \n",
       "Design                    44   44      44               44         44   \n",
       "Engineering              209  209     209              209        209   \n",
       "Finance                    8    8       8                8          8   \n",
       "Finance & Legal           14   14      14               14         14   \n",
       "Founders                   1    1       1                1          1   \n",
       "Home                       7    7       7                7          7   \n",
       "Leadership                 2    2       2                2          2   \n",
       "Marketing                 58   58      58               58         58   \n",
       "People                    22   22      22               22         22   \n",
       "People & Home             26   26      26               26         26   \n",
       "Product                   40   40      40               40         40   \n",
       "R&D                        3    3       3                3          3   \n",
       "Security                   8    8       8                8          8   \n",
       "Strategy                  11   11      11               11         11   \n",
       "Unknown                    3    3       3                3          3   \n",
       "\n",
       "                      Termination Date  Termination Type  Termination Reason  \\\n",
       "Division                                                                       \n",
       "Business Development                 6                 6                   6   \n",
       "Customer Success                    24                24                  24   \n",
       "Data & Analytics                    15                15                  15   \n",
       "Design                              18                18                  18   \n",
       "Engineering                        100               100                  98   \n",
       "Finance                              8                 8                   8   \n",
       "Finance & Legal                      1                 1                   1   \n",
       "Founders                             1                 1                   1   \n",
       "Home                                 7                 7                   7   \n",
       "Leadership                           1                 1                   1   \n",
       "Marketing                           22                22                  21   \n",
       "People                              22                22                  22   \n",
       "People & Home                        5                 5                   5   \n",
       "Product                             23                23                  22   \n",
       "R&D                                  0                 0                   0   \n",
       "Security                             0                 0                   0   \n",
       "Strategy                             2                 2                   2   \n",
       "Unknown                              3                 3                   3   \n",
       "\n",
       "                      Job Information: Date  Department  ...  Stock Options  \\\n",
       "Division                                                 ...                  \n",
       "Business Development                     17          17  ...             17   \n",
       "Customer Success                         77          77  ...             77   \n",
       "Data & Analytics                         57          57  ...             57   \n",
       "Design                                   44          44  ...             44   \n",
       "Engineering                             209         209  ...            209   \n",
       "Finance                                   8           8  ...              8   \n",
       "Finance & Legal                          14          14  ...             14   \n",
       "Founders                                  1           1  ...              1   \n",
       "Home                                      7           7  ...              7   \n",
       "Leadership                                2           2  ...              2   \n",
       "Marketing                                58          58  ...             58   \n",
       "People                                   22          22  ...             22   \n",
       "People & Home                            26          26  ...             26   \n",
       "Product                                  40          40  ...             40   \n",
       "R&D                                       3           3  ...              3   \n",
       "Security                                  8           8  ...              8   \n",
       "Strategy                                 11          11  ...             11   \n",
       "Unknown                                   3           3  ...              3   \n",
       "\n",
       "                      Level  Is Supervisor  Length of service  \\\n",
       "Division                                                        \n",
       "Business Development     17             17                 17   \n",
       "Customer Success         77             77                 77   \n",
       "Data & Analytics         57             57                 57   \n",
       "Design                   44             44                 44   \n",
       "Engineering             209            209                209   \n",
       "Finance                   8              8                  8   \n",
       "Finance & Legal          14             14                 14   \n",
       "Founders                  1              1                  1   \n",
       "Home                      7              7                  7   \n",
       "Leadership                2              2                  2   \n",
       "Marketing                58             58                 58   \n",
       "People                   22             22                 22   \n",
       "People & Home            26             26                 26   \n",
       "Product                  40             40                 40   \n",
       "R&D                       3              3                  3   \n",
       "Security                  8              8                  8   \n",
       "Strategy                 11             11                 11   \n",
       "Unknown                   3              3                  3   \n",
       "\n",
       "                      Length of service: Years  Length of service: Months  \\\n",
       "Division                                                                    \n",
       "Business Development                        17                         17   \n",
       "Customer Success                            77                         77   \n",
       "Data & Analytics                            57                         57   \n",
       "Design                                      44                         44   \n",
       "Engineering                                209                        209   \n",
       "Finance                                      8                          8   \n",
       "Finance & Legal                             14                         14   \n",
       "Founders                                     1                          1   \n",
       "Home                                         7                          7   \n",
       "Leadership                                   2                          2   \n",
       "Marketing                                   58                         58   \n",
       "People                                      22                         22   \n",
       "People & Home                               26                         26   \n",
       "Product                                     40                         40   \n",
       "R&D                                          3                          3   \n",
       "Security                                     8                          8   \n",
       "Strategy                                    11                         11   \n",
       "Unknown                                      3                          3   \n",
       "\n",
       "                      Inactive  Attrition  Involuntary  Voluntary  \n",
       "Division                                                           \n",
       "Business Development        17         17           17         17  \n",
       "Customer Success            77         77           77         77  \n",
       "Data & Analytics            57         57           57         57  \n",
       "Design                      44         44           44         44  \n",
       "Engineering                209        209          209        209  \n",
       "Finance                      8          8            8          8  \n",
       "Finance & Legal             14         14           14         14  \n",
       "Founders                     1          1            1          1  \n",
       "Home                         7          7            7          7  \n",
       "Leadership                   2          2            2          2  \n",
       "Marketing                   58         58           58         58  \n",
       "People                      22         22           22         22  \n",
       "People & Home               26         26           26         26  \n",
       "Product                     40         40           40         40  \n",
       "R&D                          3          3            3          3  \n",
       "Security                     8          8            8          8  \n",
       "Strategy                    11         11           11         11  \n",
       "Unknown                      3          3            3          3  \n",
       "\n",
       "[18 rows x 24 columns]"
      ],
      "text/html": "<div>\n<style scoped>\n    .dataframe tbody tr th:only-of-type {\n        vertical-align: middle;\n    }\n\n    .dataframe tbody tr th {\n        vertical-align: top;\n    }\n\n    .dataframe thead th {\n        text-align: right;\n    }\n</style>\n<table border=\"1\" class=\"dataframe\">\n  <thead>\n    <tr style=\"text-align: right;\">\n      <th></th>\n      <th>Status</th>\n      <th>Age</th>\n      <th>Gender</th>\n      <th>Education Level</th>\n      <th>Hire Date</th>\n      <th>Termination Date</th>\n      <th>Termination Type</th>\n      <th>Termination Reason</th>\n      <th>Job Information: Date</th>\n      <th>Department</th>\n      <th>...</th>\n      <th>Stock Options</th>\n      <th>Level</th>\n      <th>Is Supervisor</th>\n      <th>Length of service</th>\n      <th>Length of service: Years</th>\n      <th>Length of service: Months</th>\n      <th>Inactive</th>\n      <th>Attrition</th>\n      <th>Involuntary</th>\n      <th>Voluntary</th>\n    </tr>\n    <tr>\n      <th>Division</th>\n      <th></th>\n      <th></th>\n      <th></th>\n      <th></th>\n      <th></th>\n      <th></th>\n      <th></th>\n      <th></th>\n      <th></th>\n      <th></th>\n      <th></th>\n      <th></th>\n      <th></th>\n      <th></th>\n      <th></th>\n      <th></th>\n      <th></th>\n      <th></th>\n      <th></th>\n      <th></th>\n      <th></th>\n    </tr>\n  </thead>\n  <tbody>\n    <tr>\n      <th>Business Development</th>\n      <td>17</td>\n      <td>17</td>\n      <td>17</td>\n      <td>17</td>\n      <td>17</td>\n      <td>6</td>\n      <td>6</td>\n      <td>6</td>\n      <td>17</td>\n      <td>17</td>\n      <td>...</td>\n      <td>17</td>\n      <td>17</td>\n      <td>17</td>\n      <td>17</td>\n      <td>17</td>\n      <td>17</td>\n      <td>17</td>\n      <td>17</td>\n      <td>17</td>\n      <td>17</td>\n    </tr>\n    <tr>\n      <th>Customer Success</th>\n      <td>77</td>\n      <td>77</td>\n      <td>77</td>\n      <td>77</td>\n      <td>77</td>\n      <td>24</td>\n      <td>24</td>\n      <td>24</td>\n      <td>77</td>\n      <td>77</td>\n      <td>...</td>\n      <td>77</td>\n      <td>77</td>\n      <td>77</td>\n      <td>77</td>\n      <td>77</td>\n      <td>77</td>\n      <td>77</td>\n      <td>77</td>\n      <td>77</td>\n      <td>77</td>\n    </tr>\n    <tr>\n      <th>Data &amp; Analytics</th>\n      <td>57</td>\n      <td>57</td>\n      <td>57</td>\n      <td>57</td>\n      <td>57</td>\n      <td>15</td>\n      <td>15</td>\n      <td>15</td>\n      <td>57</td>\n      <td>57</td>\n      <td>...</td>\n      <td>57</td>\n      <td>57</td>\n      <td>57</td>\n      <td>57</td>\n      <td>57</td>\n      <td>57</td>\n      <td>57</td>\n      <td>57</td>\n      <td>57</td>\n      <td>57</td>\n    </tr>\n    <tr>\n      <th>Design</th>\n      <td>44</td>\n      <td>44</td>\n      <td>44</td>\n      <td>44</td>\n      <td>44</td>\n      <td>18</td>\n      <td>18</td>\n      <td>18</td>\n      <td>44</td>\n      <td>44</td>\n      <td>...</td>\n      <td>44</td>\n      <td>44</td>\n      <td>44</td>\n      <td>44</td>\n      <td>44</td>\n      <td>44</td>\n      <td>44</td>\n      <td>44</td>\n      <td>44</td>\n      <td>44</td>\n    </tr>\n    <tr>\n      <th>Engineering</th>\n      <td>209</td>\n      <td>209</td>\n      <td>209</td>\n      <td>209</td>\n      <td>209</td>\n      <td>100</td>\n      <td>100</td>\n      <td>98</td>\n      <td>209</td>\n      <td>209</td>\n      <td>...</td>\n      <td>209</td>\n      <td>209</td>\n      <td>209</td>\n      <td>209</td>\n      <td>209</td>\n      <td>209</td>\n      <td>209</td>\n      <td>209</td>\n      <td>209</td>\n      <td>209</td>\n    </tr>\n    <tr>\n      <th>Finance</th>\n      <td>8</td>\n      <td>8</td>\n      <td>8</td>\n      <td>8</td>\n      <td>8</td>\n      <td>8</td>\n      <td>8</td>\n      <td>8</td>\n      <td>8</td>\n      <td>8</td>\n      <td>...</td>\n      <td>8</td>\n      <td>8</td>\n      <td>8</td>\n      <td>8</td>\n      <td>8</td>\n      <td>8</td>\n      <td>8</td>\n      <td>8</td>\n      <td>8</td>\n      <td>8</td>\n    </tr>\n    <tr>\n      <th>Finance &amp; Legal</th>\n      <td>14</td>\n      <td>14</td>\n      <td>14</td>\n      <td>14</td>\n      <td>14</td>\n      <td>1</td>\n      <td>1</td>\n      <td>1</td>\n      <td>14</td>\n      <td>14</td>\n      <td>...</td>\n      <td>14</td>\n      <td>14</td>\n      <td>14</td>\n      <td>14</td>\n      <td>14</td>\n      <td>14</td>\n      <td>14</td>\n      <td>14</td>\n      <td>14</td>\n      <td>14</td>\n    </tr>\n    <tr>\n      <th>Founders</th>\n      <td>1</td>\n      <td>1</td>\n      <td>1</td>\n      <td>1</td>\n      <td>1</td>\n      <td>1</td>\n      <td>1</td>\n      <td>1</td>\n      <td>1</td>\n      <td>1</td>\n      <td>...</td>\n      <td>1</td>\n      <td>1</td>\n      <td>1</td>\n      <td>1</td>\n      <td>1</td>\n      <td>1</td>\n      <td>1</td>\n      <td>1</td>\n      <td>1</td>\n      <td>1</td>\n    </tr>\n    <tr>\n      <th>Home</th>\n      <td>7</td>\n      <td>7</td>\n      <td>7</td>\n      <td>7</td>\n      <td>7</td>\n      <td>7</td>\n      <td>7</td>\n      <td>7</td>\n      <td>7</td>\n      <td>7</td>\n      <td>...</td>\n      <td>7</td>\n      <td>7</td>\n      <td>7</td>\n      <td>7</td>\n      <td>7</td>\n      <td>7</td>\n      <td>7</td>\n      <td>7</td>\n      <td>7</td>\n      <td>7</td>\n    </tr>\n    <tr>\n      <th>Leadership</th>\n      <td>2</td>\n      <td>2</td>\n      <td>2</td>\n      <td>2</td>\n      <td>2</td>\n      <td>1</td>\n      <td>1</td>\n      <td>1</td>\n      <td>2</td>\n      <td>2</td>\n      <td>...</td>\n      <td>2</td>\n      <td>2</td>\n      <td>2</td>\n      <td>2</td>\n      <td>2</td>\n      <td>2</td>\n      <td>2</td>\n      <td>2</td>\n      <td>2</td>\n      <td>2</td>\n    </tr>\n    <tr>\n      <th>Marketing</th>\n      <td>58</td>\n      <td>58</td>\n      <td>58</td>\n      <td>58</td>\n      <td>58</td>\n      <td>22</td>\n      <td>22</td>\n      <td>21</td>\n      <td>58</td>\n      <td>58</td>\n      <td>...</td>\n      <td>58</td>\n      <td>58</td>\n      <td>58</td>\n      <td>58</td>\n      <td>58</td>\n      <td>58</td>\n      <td>58</td>\n      <td>58</td>\n      <td>58</td>\n      <td>58</td>\n    </tr>\n    <tr>\n      <th>People</th>\n      <td>22</td>\n      <td>22</td>\n      <td>22</td>\n      <td>22</td>\n      <td>22</td>\n      <td>22</td>\n      <td>22</td>\n      <td>22</td>\n      <td>22</td>\n      <td>22</td>\n      <td>...</td>\n      <td>22</td>\n      <td>22</td>\n      <td>22</td>\n      <td>22</td>\n      <td>22</td>\n      <td>22</td>\n      <td>22</td>\n      <td>22</td>\n      <td>22</td>\n      <td>22</td>\n    </tr>\n    <tr>\n      <th>People &amp; Home</th>\n      <td>26</td>\n      <td>26</td>\n      <td>26</td>\n      <td>26</td>\n      <td>26</td>\n      <td>5</td>\n      <td>5</td>\n      <td>5</td>\n      <td>26</td>\n      <td>26</td>\n      <td>...</td>\n      <td>26</td>\n      <td>26</td>\n      <td>26</td>\n      <td>26</td>\n      <td>26</td>\n      <td>26</td>\n      <td>26</td>\n      <td>26</td>\n      <td>26</td>\n      <td>26</td>\n    </tr>\n    <tr>\n      <th>Product</th>\n      <td>40</td>\n      <td>40</td>\n      <td>40</td>\n      <td>40</td>\n      <td>40</td>\n      <td>23</td>\n      <td>23</td>\n      <td>22</td>\n      <td>40</td>\n      <td>40</td>\n      <td>...</td>\n      <td>40</td>\n      <td>40</td>\n      <td>40</td>\n      <td>40</td>\n      <td>40</td>\n      <td>40</td>\n      <td>40</td>\n      <td>40</td>\n      <td>40</td>\n      <td>40</td>\n    </tr>\n    <tr>\n      <th>R&amp;D</th>\n      <td>3</td>\n      <td>3</td>\n      <td>3</td>\n      <td>3</td>\n      <td>3</td>\n      <td>0</td>\n      <td>0</td>\n      <td>0</td>\n      <td>3</td>\n      <td>3</td>\n      <td>...</td>\n      <td>3</td>\n      <td>3</td>\n      <td>3</td>\n      <td>3</td>\n      <td>3</td>\n      <td>3</td>\n      <td>3</td>\n      <td>3</td>\n      <td>3</td>\n      <td>3</td>\n    </tr>\n    <tr>\n      <th>Security</th>\n      <td>8</td>\n      <td>8</td>\n      <td>8</td>\n      <td>8</td>\n      <td>8</td>\n      <td>0</td>\n      <td>0</td>\n      <td>0</td>\n      <td>8</td>\n      <td>8</td>\n      <td>...</td>\n      <td>8</td>\n      <td>8</td>\n      <td>8</td>\n      <td>8</td>\n      <td>8</td>\n      <td>8</td>\n      <td>8</td>\n      <td>8</td>\n      <td>8</td>\n      <td>8</td>\n    </tr>\n    <tr>\n      <th>Strategy</th>\n      <td>11</td>\n      <td>11</td>\n      <td>11</td>\n      <td>11</td>\n      <td>11</td>\n      <td>2</td>\n      <td>2</td>\n      <td>2</td>\n      <td>11</td>\n      <td>11</td>\n      <td>...</td>\n      <td>11</td>\n      <td>11</td>\n      <td>11</td>\n      <td>11</td>\n      <td>11</td>\n      <td>11</td>\n      <td>11</td>\n      <td>11</td>\n      <td>11</td>\n      <td>11</td>\n    </tr>\n    <tr>\n      <th>Unknown</th>\n      <td>3</td>\n      <td>3</td>\n      <td>3</td>\n      <td>3</td>\n      <td>3</td>\n      <td>3</td>\n      <td>3</td>\n      <td>3</td>\n      <td>3</td>\n      <td>3</td>\n      <td>...</td>\n      <td>3</td>\n      <td>3</td>\n      <td>3</td>\n      <td>3</td>\n      <td>3</td>\n      <td>3</td>\n      <td>3</td>\n      <td>3</td>\n      <td>3</td>\n      <td>3</td>\n    </tr>\n  </tbody>\n</table>\n<p>18 rows × 24 columns</p>\n</div>"
     },
     "metadata": {},
     "execution_count": 43
    }
   ],
   "source": [
    "df.groupby('Division').count()"
   ]
  },
  {
   "cell_type": "code",
   "execution_count": null,
   "metadata": {},
   "outputs": [],
   "source": [
    "df.pivot(index='Division', columns='Attrition', values=)"
   ]
  },
  {
   "cell_type": "code",
   "execution_count": null,
   "metadata": {},
   "outputs": [],
   "source": []
  },
  {
   "cell_type": "code",
   "execution_count": null,
   "metadata": {},
   "outputs": [],
   "source": []
  },
  {
   "cell_type": "code",
   "execution_count": null,
   "metadata": {},
   "outputs": [],
   "source": []
  },
  {
   "cell_type": "code",
   "execution_count": null,
   "metadata": {},
   "outputs": [],
   "source": []
  },
  {
   "cell_type": "code",
   "execution_count": null,
   "metadata": {},
   "outputs": [],
   "source": []
  },
  {
   "cell_type": "code",
   "execution_count": null,
   "metadata": {},
   "outputs": [],
   "source": []
  },
  {
   "source": [
    "## TSNE"
   ],
   "cell_type": "markdown",
   "metadata": {}
  },
  {
   "cell_type": "code",
   "execution_count": 18,
   "metadata": {},
   "outputs": [],
   "source": [
    "def do_plot(X_fit, title=None, labels=None):\n",
    "    dimension = X_fit.shape[1]\n",
    "    label_types = sorted(list(set(labels)))\n",
    "    num_labels = len(label_types)\n",
    "    colors = cm.Accent(np.linspace(0, 1, num_labels))\n",
    "    with plt.style.context(plt_style):\n",
    "        fig = plt.figure()\n",
    "        if dimension == 2:\n",
    "            ax = fig.add_subplot(111)\n",
    "            for lab, col in zip(label_types, colors):\n",
    "                ax.scatter(X_fit[labels==lab, 0],\n",
    "                           X_fit[labels==lab, 1],\n",
    "                           c=[col])\n",
    "        elif dimension == 3:\n",
    "            ax = fig.add_subplot(111, projection='3d')\n",
    "            for lab, col in zip(label_types, colors):\n",
    "                ax.scatter(X_fit[labels==lab, 0],\n",
    "                           X_fit[labels==lab, 1],\n",
    "                           X_fit[labels==lab, 2],\n",
    "                           c=[col])\n",
    "        else:\n",
    "            raise Exception('Unknown dimension: %d' % dimension)\n",
    "        plt.title(title)\n",
    "        plt.show()"
   ]
  },
  {
   "cell_type": "code",
   "execution_count": 19,
   "metadata": {},
   "outputs": [],
   "source": [
    "# pasar categoricas a 0 y 1\n",
    "# si hay mas de 2 categorias, hacer one hot encoding\n",
    "# para el proyecto final, en lugar de get dummies usaria category encoders\n",
    "tsne2 = TSNE(n_components=2, random_state=0)"
   ]
  },
  {
   "cell_type": "code",
   "execution_count": 20,
   "metadata": {},
   "outputs": [
    {
     "output_type": "error",
     "ename": "NameError",
     "evalue": "name 'labels' is not defined",
     "traceback": [
      "\u001b[0;31m---------------------------------------------------------------------------\u001b[0m",
      "\u001b[0;31mNameError\u001b[0m                                 Traceback (most recent call last)",
      "\u001b[0;32m<ipython-input-20-988ed3825c97>\u001b[0m in \u001b[0;36m<module>\u001b[0;34m\u001b[0m\n\u001b[0;32m----> 1\u001b[0;31m \u001b[0mdo_plot\u001b[0m\u001b[0;34m(\u001b[0m\u001b[0mtsne2\u001b[0m\u001b[0;34m.\u001b[0m\u001b[0mfit_transform\u001b[0m\u001b[0;34m(\u001b[0m\u001b[0mdf_num\u001b[0m\u001b[0;34m)\u001b[0m\u001b[0;34m,\u001b[0m \u001b[0;34m't-SNE'\u001b[0m\u001b[0;34m,\u001b[0m \u001b[0mlabels\u001b[0m\u001b[0;34m)\u001b[0m\u001b[0;34m\u001b[0m\u001b[0;34m\u001b[0m\u001b[0m\n\u001b[0m",
      "\u001b[0;31mNameError\u001b[0m: name 'labels' is not defined"
     ]
    }
   ],
   "source": [
    "do_plot(tsne2.fit_transform(df_num), 't-SNE', labels)"
   ]
  },
  {
   "cell_type": "code",
   "execution_count": null,
   "metadata": {},
   "outputs": [],
   "source": []
  },
  {
   "cell_type": "code",
   "execution_count": null,
   "metadata": {},
   "outputs": [],
   "source": []
  },
  {
   "cell_type": "code",
   "execution_count": null,
   "metadata": {},
   "outputs": [],
   "source": []
  },
  {
   "cell_type": "code",
   "execution_count": null,
   "metadata": {},
   "outputs": [],
   "source": []
  }
 ]
}